{
 "cells": [
  {
   "cell_type": "markdown",
   "metadata": {},
   "source": [
    "# 📘 Notebook 01: Data Collection\n",
    "# Emotional Geography of Books – Shraddha"
   ]
  },
  {
   "cell_type": "code",
   "execution_count": 1,
   "metadata": {},
   "outputs": [],
   "source": [
    "import requests\n",
    "import json\n",
    "import os\n",
    "import pandas as pd\n",
    "import numpy as np\n",
    "from pathlib import Path\n",
    "from time import sleep"
   ]
  },
  {
   "cell_type": "code",
   "execution_count": 8,
   "metadata": {},
   "outputs": [
    {
     "name": "stdout",
     "output_type": "stream",
     "text": [
      "📚 Total books: 1015\n"
     ]
    }
   ],
   "source": [
    "#Read data from raw data\n",
    "files = list(Path(\"../data/raw\").glob(\"goodreads_books_*.csv\"))\n",
    "all_dfs = []\n",
    "\n",
    "for file in files:\n",
    "    year = int(file.stem.split(\"_\")[-1])\n",
    "    df = pd.read_csv(file)\n",
    "    df[\"published_year\"] = year\n",
    "    all_dfs.append(df)\n",
    "\n",
    "df_all = pd.concat(all_dfs, ignore_index=True)\n",
    "print(f\"📚 Total books: {len(df_all)}\")"
   ]
  },
  {
   "cell_type": "code",
   "execution_count": 11,
   "metadata": {},
   "outputs": [],
   "source": [
    "# Remove \" ratings\" text and convert to int\n",
    "def clean_ratings_count(value):\n",
    "    if pd.isna(value):\n",
    "        return 0\n",
    "    value = value.lower().replace(\"ratings\", \"\").strip()\n",
    "    multipliers = {\"k\": 1_000, \"m\": 1_000_000}\n",
    "    for suffix, multiplier in multipliers.items():\n",
    "        if value.endswith(suffix):\n",
    "            return int(float(value[:-1]) * multiplier)\n",
    "    try:\n",
    "        return int(value.replace(\",\", \"\"))\n",
    "    except:\n",
    "        return 0\n",
    "\n",
    "df_all[\"ratings_count\"] = df_all[\"ratings_count\"].apply(clean_ratings_count)\n",
    "\n",
    "# Ratings to float\n",
    "df_all[\"rating\"] = pd.to_numeric(df_all[\"rating\"], errors=\"coerce\")\n",
    "\n",
    "# Author name cleanup + first name\n",
    "df_all[\"author\"] = df_all[\"author\"].fillna(\"\").str.strip()\n",
    "df_all[\"author_first\"] = df_all[\"author\"].apply(lambda x: x.split()[0].lower() if x else \"\")"
   ]
  },
  {
   "cell_type": "code",
   "execution_count": 12,
   "metadata": {},
   "outputs": [],
   "source": [
    "def guess_gender(name):\n",
    "    male = {\"john\", \"david\", \"matt\", \"kevin\", \"daniel\"}\n",
    "    female = {\"sarah\", \"emma\", \"hannah\", \"shraddha\", \"emily\"}\n",
    "    \n",
    "    if name in male:\n",
    "        return \"male\"\n",
    "    elif name in female:\n",
    "        return \"female\"\n",
    "    else:\n",
    "        return \"unknown\"\n",
    "\n",
    "df_all[\"author_gender\"] = df_all[\"author_first\"].apply(guess_gender)"
   ]
  },
  {
   "cell_type": "code",
   "execution_count": 14,
   "metadata": {},
   "outputs": [
    {
     "name": "stdout",
     "output_type": "stream",
     "text": [
      "✅ Saved cleaned data to data/processed/clean_books_2020_2024.csv\n"
     ]
    }
   ],
   "source": [
    "df_all[\"source\"] = \"Goodreads\"\n",
    "df_all.to_csv(\"../data/processed/clean_books_2020_2024.csv\", index=False)\n",
    "print(\"✅ Saved cleaned data to data/processed/clean_books_2020_2024.csv\")"
   ]
  },
  {
   "cell_type": "code",
   "execution_count": null,
   "metadata": {},
   "outputs": [],
   "source": []
  }
 ],
 "metadata": {
  "kernelspec": {
   "display_name": "base",
   "language": "python",
   "name": "python3"
  },
  "language_info": {
   "codemirror_mode": {
    "name": "ipython",
    "version": 3
   },
   "file_extension": ".py",
   "mimetype": "text/x-python",
   "name": "python",
   "nbconvert_exporter": "python",
   "pygments_lexer": "ipython3",
   "version": "3.11.7"
  }
 },
 "nbformat": 4,
 "nbformat_minor": 2
}
