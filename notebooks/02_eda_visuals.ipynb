{
 "cells": [
  {
   "cell_type": "markdown",
   "metadata": {},
   "source": [
    "# 📘 Notebook 02: Exploratory Data Analysis\n",
    "# Emotional Geography of Books – Shraddha"
   ]
  },
  {
   "cell_type": "code",
   "execution_count": 45,
   "metadata": {},
   "outputs": [
    {
     "name": "stderr",
     "output_type": "stream",
     "text": [
      "/opt/anaconda3/lib/python3.11/site-packages/fuzzywuzzy/fuzz.py:11: UserWarning: Using slow pure-python SequenceMatcher. Install python-Levenshtein to remove this warning\n",
      "  warnings.warn('Using slow pure-python SequenceMatcher. Install python-Levenshtein to remove this warning')\n"
     ]
    }
   ],
   "source": [
    "# 1) Imports\n",
    "import pandas as pd\n",
    "import numpy as np\n",
    "import matplotlib.pyplot as plt\n",
    "from matplotlib.ticker import FuncFormatter\n",
    "\n",
    "import seaborn as sns\n",
    "import missingno as msno\n",
    "from fuzzywuzzy import process\n",
    "import re\n",
    "import pycountry"
   ]
  },
  {
   "cell_type": "code",
   "execution_count": null,
   "metadata": {},
   "outputs": [
    {
     "name": "stdout",
     "output_type": "stream",
     "text": [
      "Data shape: (1000, 12)\n",
      "<class 'pandas.core.frame.DataFrame'>\n",
      "RangeIndex: 1000 entries, 0 to 999\n",
      "Data columns (total 12 columns):\n",
      " #   Column          Non-Null Count  Dtype  \n",
      "---  ------          --------------  -----  \n",
      " 0   title           1000 non-null   object \n",
      " 1   author          1000 non-null   object \n",
      " 2   link            1000 non-null   object \n",
      " 3   rating          1000 non-null   float64\n",
      " 4   ratings_count   1000 non-null   int64  \n",
      " 5   description     1000 non-null   object \n",
      " 6   published_year  1000 non-null   int64  \n",
      " 7   author_first    1000 non-null   object \n",
      " 8   source          1000 non-null   object \n",
      " 9   author_country  596 non-null    object \n",
      " 10  author_gender   1000 non-null   object \n",
      " 11  gender_source   1000 non-null   object \n",
      "dtypes: float64(1), int64(2), object(9)\n",
      "memory usage: 93.9+ KB\n"
     ]
    },
    {
     "data": {
      "application/vnd.microsoft.datawrangler.viewer.v0+json": {
       "columns": [
        {
         "name": "index",
         "rawType": "object",
         "type": "string"
        },
        {
         "name": "count",
         "rawType": "object",
         "type": "unknown"
        },
        {
         "name": "unique",
         "rawType": "object",
         "type": "unknown"
        },
        {
         "name": "top",
         "rawType": "object",
         "type": "unknown"
        },
        {
         "name": "freq",
         "rawType": "object",
         "type": "unknown"
        },
        {
         "name": "mean",
         "rawType": "object",
         "type": "unknown"
        },
        {
         "name": "std",
         "rawType": "object",
         "type": "unknown"
        },
        {
         "name": "min",
         "rawType": "object",
         "type": "unknown"
        },
        {
         "name": "25%",
         "rawType": "object",
         "type": "unknown"
        },
        {
         "name": "50%",
         "rawType": "object",
         "type": "unknown"
        },
        {
         "name": "75%",
         "rawType": "object",
         "type": "unknown"
        },
        {
         "name": "max",
         "rawType": "object",
         "type": "unknown"
        }
       ],
       "ref": "a5a5215e-18aa-4b86-a083-afe06b8c564c",
       "rows": [
        [
         "title",
         "1000",
         "998",
         "One by One",
         "2",
         null,
         null,
         null,
         null,
         null,
         null,
         null
        ],
        [
         "author",
         "1000",
         "600",
         "Freida McFadden",
         "18",
         null,
         null,
         null,
         null,
         null,
         null,
         null
        ],
        [
         "link",
         "1000",
         "1000",
         "https://www.goodreads.com/book/show/52578297-the-midnight-library",
         "1",
         null,
         null,
         null,
         null,
         null,
         null,
         null
        ],
        [
         "rating",
         "1000.0",
         null,
         null,
         null,
         "3.98327",
         "0.27573109134577967",
         "2.79",
         "3.79",
         "4.0",
         "4.17",
         "4.76"
        ],
        [
         "ratings_count",
         "1000.0",
         null,
         null,
         null,
         "201622.796",
         "262069.49139162587",
         "11200.0",
         "76600.0",
         "116000.0",
         "202250.0",
         "3000000.0"
        ],
        [
         "description",
         "1000",
         "1000",
         "Between life and death there is a library.When Nora Seed finds herself in the Midnight Library, she has a chance to make things right. Up until now, her life has been full of misery and regret. She feels she has let everyone down, including herself. But things are about to change.The books in the Midnight Library enable Nora to live as if she had done things differently. With the help of an old friend, she can now undo every one of her regrets as she tries to work out her perfect life. But things aren't always what she imagined they'd be, and soon her choices place the library and herself in extreme danger.Before time runs out, she must answer the ultimate question: what is the best way to live?",
         "1",
         null,
         null,
         null,
         null,
         null,
         null,
         null
        ],
        [
         "published_year",
         "1000.0",
         null,
         null,
         null,
         "2022.0",
         "1.4149211999266964",
         "2020.0",
         "2021.0",
         "2022.0",
         "2023.0",
         "2024.0"
        ],
        [
         "author_first",
         "1000",
         "429",
         "jennifer",
         "22",
         null,
         null,
         null,
         null,
         null,
         null,
         null
        ],
        [
         "source",
         "1000",
         "1",
         "Goodreads",
         "1000",
         null,
         null,
         null,
         null,
         null,
         null,
         null
        ],
        [
         "author_country",
         "596",
         "208",
         "in The United States",
         "105",
         null,
         null,
         null,
         null,
         null,
         null,
         null
        ],
        [
         "author_gender",
         "1000",
         "3",
         "female",
         "831",
         null,
         null,
         null,
         null,
         null,
         null,
         null
        ],
        [
         "gender_source",
         "1000",
         "3",
         "goodreads",
         "699",
         null,
         null,
         null,
         null,
         null,
         null,
         null
        ]
       ],
       "shape": {
        "columns": 11,
        "rows": 12
       }
      },
      "text/html": [
       "<div>\n",
       "<style scoped>\n",
       "    .dataframe tbody tr th:only-of-type {\n",
       "        vertical-align: middle;\n",
       "    }\n",
       "\n",
       "    .dataframe tbody tr th {\n",
       "        vertical-align: top;\n",
       "    }\n",
       "\n",
       "    .dataframe thead th {\n",
       "        text-align: right;\n",
       "    }\n",
       "</style>\n",
       "<table border=\"1\" class=\"dataframe\">\n",
       "  <thead>\n",
       "    <tr style=\"text-align: right;\">\n",
       "      <th></th>\n",
       "      <th>count</th>\n",
       "      <th>unique</th>\n",
       "      <th>top</th>\n",
       "      <th>freq</th>\n",
       "      <th>mean</th>\n",
       "      <th>std</th>\n",
       "      <th>min</th>\n",
       "      <th>25%</th>\n",
       "      <th>50%</th>\n",
       "      <th>75%</th>\n",
       "      <th>max</th>\n",
       "    </tr>\n",
       "  </thead>\n",
       "  <tbody>\n",
       "    <tr>\n",
       "      <th>title</th>\n",
       "      <td>1000</td>\n",
       "      <td>998</td>\n",
       "      <td>One by One</td>\n",
       "      <td>2</td>\n",
       "      <td>NaN</td>\n",
       "      <td>NaN</td>\n",
       "      <td>NaN</td>\n",
       "      <td>NaN</td>\n",
       "      <td>NaN</td>\n",
       "      <td>NaN</td>\n",
       "      <td>NaN</td>\n",
       "    </tr>\n",
       "    <tr>\n",
       "      <th>author</th>\n",
       "      <td>1000</td>\n",
       "      <td>600</td>\n",
       "      <td>Freida McFadden</td>\n",
       "      <td>18</td>\n",
       "      <td>NaN</td>\n",
       "      <td>NaN</td>\n",
       "      <td>NaN</td>\n",
       "      <td>NaN</td>\n",
       "      <td>NaN</td>\n",
       "      <td>NaN</td>\n",
       "      <td>NaN</td>\n",
       "    </tr>\n",
       "    <tr>\n",
       "      <th>link</th>\n",
       "      <td>1000</td>\n",
       "      <td>1000</td>\n",
       "      <td>https://www.goodreads.com/book/show/52578297-t...</td>\n",
       "      <td>1</td>\n",
       "      <td>NaN</td>\n",
       "      <td>NaN</td>\n",
       "      <td>NaN</td>\n",
       "      <td>NaN</td>\n",
       "      <td>NaN</td>\n",
       "      <td>NaN</td>\n",
       "      <td>NaN</td>\n",
       "    </tr>\n",
       "    <tr>\n",
       "      <th>rating</th>\n",
       "      <td>1000.0</td>\n",
       "      <td>NaN</td>\n",
       "      <td>NaN</td>\n",
       "      <td>NaN</td>\n",
       "      <td>3.98327</td>\n",
       "      <td>0.275731</td>\n",
       "      <td>2.79</td>\n",
       "      <td>3.79</td>\n",
       "      <td>4.0</td>\n",
       "      <td>4.17</td>\n",
       "      <td>4.76</td>\n",
       "    </tr>\n",
       "    <tr>\n",
       "      <th>ratings_count</th>\n",
       "      <td>1000.0</td>\n",
       "      <td>NaN</td>\n",
       "      <td>NaN</td>\n",
       "      <td>NaN</td>\n",
       "      <td>201622.796</td>\n",
       "      <td>262069.491392</td>\n",
       "      <td>11200.0</td>\n",
       "      <td>76600.0</td>\n",
       "      <td>116000.0</td>\n",
       "      <td>202250.0</td>\n",
       "      <td>3000000.0</td>\n",
       "    </tr>\n",
       "    <tr>\n",
       "      <th>description</th>\n",
       "      <td>1000</td>\n",
       "      <td>1000</td>\n",
       "      <td>Between life and death there is a library.When...</td>\n",
       "      <td>1</td>\n",
       "      <td>NaN</td>\n",
       "      <td>NaN</td>\n",
       "      <td>NaN</td>\n",
       "      <td>NaN</td>\n",
       "      <td>NaN</td>\n",
       "      <td>NaN</td>\n",
       "      <td>NaN</td>\n",
       "    </tr>\n",
       "    <tr>\n",
       "      <th>published_year</th>\n",
       "      <td>1000.0</td>\n",
       "      <td>NaN</td>\n",
       "      <td>NaN</td>\n",
       "      <td>NaN</td>\n",
       "      <td>2022.0</td>\n",
       "      <td>1.414921</td>\n",
       "      <td>2020.0</td>\n",
       "      <td>2021.0</td>\n",
       "      <td>2022.0</td>\n",
       "      <td>2023.0</td>\n",
       "      <td>2024.0</td>\n",
       "    </tr>\n",
       "    <tr>\n",
       "      <th>author_first</th>\n",
       "      <td>1000</td>\n",
       "      <td>429</td>\n",
       "      <td>jennifer</td>\n",
       "      <td>22</td>\n",
       "      <td>NaN</td>\n",
       "      <td>NaN</td>\n",
       "      <td>NaN</td>\n",
       "      <td>NaN</td>\n",
       "      <td>NaN</td>\n",
       "      <td>NaN</td>\n",
       "      <td>NaN</td>\n",
       "    </tr>\n",
       "    <tr>\n",
       "      <th>source</th>\n",
       "      <td>1000</td>\n",
       "      <td>1</td>\n",
       "      <td>Goodreads</td>\n",
       "      <td>1000</td>\n",
       "      <td>NaN</td>\n",
       "      <td>NaN</td>\n",
       "      <td>NaN</td>\n",
       "      <td>NaN</td>\n",
       "      <td>NaN</td>\n",
       "      <td>NaN</td>\n",
       "      <td>NaN</td>\n",
       "    </tr>\n",
       "    <tr>\n",
       "      <th>author_country</th>\n",
       "      <td>596</td>\n",
       "      <td>208</td>\n",
       "      <td>in The United States</td>\n",
       "      <td>105</td>\n",
       "      <td>NaN</td>\n",
       "      <td>NaN</td>\n",
       "      <td>NaN</td>\n",
       "      <td>NaN</td>\n",
       "      <td>NaN</td>\n",
       "      <td>NaN</td>\n",
       "      <td>NaN</td>\n",
       "    </tr>\n",
       "    <tr>\n",
       "      <th>author_gender</th>\n",
       "      <td>1000</td>\n",
       "      <td>3</td>\n",
       "      <td>female</td>\n",
       "      <td>831</td>\n",
       "      <td>NaN</td>\n",
       "      <td>NaN</td>\n",
       "      <td>NaN</td>\n",
       "      <td>NaN</td>\n",
       "      <td>NaN</td>\n",
       "      <td>NaN</td>\n",
       "      <td>NaN</td>\n",
       "    </tr>\n",
       "    <tr>\n",
       "      <th>gender_source</th>\n",
       "      <td>1000</td>\n",
       "      <td>3</td>\n",
       "      <td>goodreads</td>\n",
       "      <td>699</td>\n",
       "      <td>NaN</td>\n",
       "      <td>NaN</td>\n",
       "      <td>NaN</td>\n",
       "      <td>NaN</td>\n",
       "      <td>NaN</td>\n",
       "      <td>NaN</td>\n",
       "      <td>NaN</td>\n",
       "    </tr>\n",
       "  </tbody>\n",
       "</table>\n",
       "</div>"
      ],
      "text/plain": [
       "                 count unique  \\\n",
       "title             1000    998   \n",
       "author            1000    600   \n",
       "link              1000   1000   \n",
       "rating          1000.0    NaN   \n",
       "ratings_count   1000.0    NaN   \n",
       "description       1000   1000   \n",
       "published_year  1000.0    NaN   \n",
       "author_first      1000    429   \n",
       "source            1000      1   \n",
       "author_country     596    208   \n",
       "author_gender     1000      3   \n",
       "gender_source     1000      3   \n",
       "\n",
       "                                                              top  freq  \\\n",
       "title                                                  One by One     2   \n",
       "author                                            Freida McFadden    18   \n",
       "link            https://www.goodreads.com/book/show/52578297-t...     1   \n",
       "rating                                                        NaN   NaN   \n",
       "ratings_count                                                 NaN   NaN   \n",
       "description     Between life and death there is a library.When...     1   \n",
       "published_year                                                NaN   NaN   \n",
       "author_first                                             jennifer    22   \n",
       "source                                                  Goodreads  1000   \n",
       "author_country                               in The United States   105   \n",
       "author_gender                                              female   831   \n",
       "gender_source                                           goodreads   699   \n",
       "\n",
       "                      mean            std      min      25%       50%  \\\n",
       "title                  NaN            NaN      NaN      NaN       NaN   \n",
       "author                 NaN            NaN      NaN      NaN       NaN   \n",
       "link                   NaN            NaN      NaN      NaN       NaN   \n",
       "rating             3.98327       0.275731     2.79     3.79       4.0   \n",
       "ratings_count   201622.796  262069.491392  11200.0  76600.0  116000.0   \n",
       "description            NaN            NaN      NaN      NaN       NaN   \n",
       "published_year      2022.0       1.414921   2020.0   2021.0    2022.0   \n",
       "author_first           NaN            NaN      NaN      NaN       NaN   \n",
       "source                 NaN            NaN      NaN      NaN       NaN   \n",
       "author_country         NaN            NaN      NaN      NaN       NaN   \n",
       "author_gender          NaN            NaN      NaN      NaN       NaN   \n",
       "gender_source          NaN            NaN      NaN      NaN       NaN   \n",
       "\n",
       "                     75%        max  \n",
       "title                NaN        NaN  \n",
       "author               NaN        NaN  \n",
       "link                 NaN        NaN  \n",
       "rating              4.17       4.76  \n",
       "ratings_count   202250.0  3000000.0  \n",
       "description          NaN        NaN  \n",
       "published_year    2023.0     2024.0  \n",
       "author_first         NaN        NaN  \n",
       "source               NaN        NaN  \n",
       "author_country       NaN        NaN  \n",
       "author_gender        NaN        NaN  \n",
       "gender_source        NaN        NaN  "
      ]
     },
     "metadata": {},
     "output_type": "display_data"
    }
   ],
   "source": [
    "\n",
    "# # Exploratory Data Analysis\n",
    "#\n",
    "# Load and explore `clean_books_2020_2024.csv`.\n",
    "\n",
    "# 1) Set plotting defaults\n",
    "sns.set(style=\"whitegrid\", palette=\"muted\", font_scale=1.1)\n",
    "plt.rcParams[\"figure.figsize\"] = (8, 5)\n",
    "\n",
    "# 2) Load data\n",
    "df = pd.read_csv(\"../data/processed/clean_books_2020_2024.csv\")\n",
    "print(f\"Data shape: {df.shape}\")\n",
    "\n",
    "# 3) Schema & basic stats\n",
    "df.info()\n",
    "display(df.describe(include=\"all\").T)\n"
   ]
  },
  {
   "cell_type": "code",
   "execution_count": 6,
   "metadata": {},
   "outputs": [
    {
     "data": {
      "application/vnd.microsoft.datawrangler.viewer.v0+json": {
       "columns": [
        {
         "name": "index",
         "rawType": "int64",
         "type": "integer"
        },
        {
         "name": "title",
         "rawType": "object",
         "type": "string"
        },
        {
         "name": "author",
         "rawType": "object",
         "type": "string"
        },
        {
         "name": "link",
         "rawType": "object",
         "type": "string"
        },
        {
         "name": "rating",
         "rawType": "float64",
         "type": "float"
        },
        {
         "name": "ratings_count",
         "rawType": "int64",
         "type": "integer"
        },
        {
         "name": "description",
         "rawType": "object",
         "type": "string"
        },
        {
         "name": "published_year",
         "rawType": "int64",
         "type": "integer"
        },
        {
         "name": "author_first",
         "rawType": "object",
         "type": "string"
        },
        {
         "name": "source",
         "rawType": "object",
         "type": "string"
        },
        {
         "name": "author_country",
         "rawType": "object",
         "type": "unknown"
        },
        {
         "name": "author_gender",
         "rawType": "object",
         "type": "string"
        },
        {
         "name": "gender_source",
         "rawType": "object",
         "type": "string"
        }
       ],
       "ref": "746d81a4-542f-47aa-a0f9-e437ee9e2f1f",
       "rows": [
        [
         "246",
         "The Night She Disappeared",
         "Lisa Jewell",
         "https://www.goodreads.com/book/show/55922299-the-night-she-disappeared",
         "4.1",
         "291000",
         "2017: 19 year old Tallulah is going out on a date, leaving her baby with her mother, Kim.Kim watches her daughter leave and, as late evening turns into night, which turns into early morning, she waits for her return. And waits.The next morning, Kim phones Tallulah's friends who tell her that Tallulah was last seen heading to a party at a house in the nearby woods called Dark Place.She never returns.2019: Sophie is walking in the woods near the boarding school where her boyfriend has just started work as a head-teacher when she sees a note fixed to a tree.'DIG HERE' . . .A cold case, an abandoned mansion, family trauma and dark secrets lie at the heart of Lisa Jewell's remarkable new novel.",
         "2021",
         "lisa",
         "Goodreads",
         "in London, The United Kingdom",
         "female",
         "goodreads"
        ],
        [
         "707",
         "Our Wives Under the Sea",
         "Julia Armfield",
         "https://www.goodreads.com/book/show/58659343-our-wives-under-the-sea",
         "3.75",
         "105000",
         "Miri thinks she has got her wife back, when Leah finally returns after a deep-sea mission that ended in catastrophe. It soon becomes clear, though, that Leah is not the same. Whatever happened in that vessel, whatever it was they were supposed to be studying before they were stranded on the ocean floor, Leah has brought part of it back with her, onto dry land and into their home.Moving through something that only resembles normal life, Miri comes to realize that the life that they had before might be gone. Though Leah is still there, Miri can feel the woman she loves slipping from her grasp.Our Wives Under The Sea is the debut novel from Julia Armfield, the critically acclaimed author of Salt Slow. It’s a story of falling in love, loss, grief, and what life there is in the deep deep sea.",
         "2022",
         "julia",
         "Goodreads",
         "in London, England, The United Kingdom",
         "female",
         "goodreads"
        ],
        [
         "315",
         "House of Hollow",
         "Krystal Sutherland",
         "https://www.goodreads.com/book/show/54613751-house-of-hollow",
         "4.02",
         "93100",
         "Seventeen-year-old Iris Hollow has always been strange. Something happened to her and her two older sisters when they were children, something they can’t quite remember but that left each of them with an identical half-moon scar at the base of their throats. Iris has spent most of her teenage years trying to avoid the weirdness that sticks to her like tar. But when her eldest sister, Grey, goes missing under suspicious circumstances, Iris learns just how weird her life can get: horned men start shadowing her, a corpse falls out of her sister’s ceiling, and ugly, impossible memories start to twist their way to the forefront of her mind. As Iris retraces Grey’s last known footsteps and follows the increasingly bizarre trail of breadcrumbs she left behind, it becomes apparent that the only way to save her sister is to decipher the mystery of what happened to them as children. The closer Iris gets to the truth, the closer she comes to understanding that the answer is dark and dangerous – and that Grey has been keeping a terrible secret from her for years.",
         "2021",
         "krystal",
         "Goodreads",
         "Australia",
         "female",
         "goodreads"
        ],
        [
         "62",
         "Transcendent Kingdom",
         "Yaa Gyasi",
         "https://www.goodreads.com/book/show/48570454-transcendent-kingdom",
         "4.1",
         "157000",
         "Yaa Gyasi's stunning follow-up to her acclaimed national best seller Homegoing is a powerful, raw, intimate, deeply layered novel about a Ghanaian family in Alabama.Gifty is a fifth-year candidate in neuroscience at Stanford School of Medicine studying reward-seeking behavior in mice and the neural circuits of depression and addiction. Her brother, Nana, was a gifted high school athlete who died of a heroin overdose after a knee injury left him hooked on OxyContin. Her suicidal mother is living in her bed. Gifty is determined to discover the scientific basis for the suffering she sees all around her. But even as she turns to the hard sciences to unlock the mystery of her family's loss, she finds herself hungering for her childhood faith and grappling with the evangelical church in which she was raised, whose promise of salvation remains as tantalizing as it is elusive. Transcendent Kingdom is a deeply moving portrait of a family of Ghanaian immigrants ravaged by depression and addiction and grief--a novel about faith, science, religion, love. Exquisitely written, emotionally searing, this is an exceptionally powerful follow-up to Gyasi's phenomenal debut.",
         "2020",
         "yaa",
         "Goodreads",
         "Mampong, Ghana",
         "female",
         "goodreads"
        ],
        [
         "27",
         "Greenlights",
         "Matthew McConaughey",
         "https://www.goodreads.com/book/show/52838315-greenlights",
         "4.21",
         "410000",
         "From the Academy Award®–winning actor, an unconventional memoir filled with raucous stories, outlaw wisdom, and lessons learned the hard way about living with greater satisfaction. I’ve been in this life for fifty years, been trying to work out its riddle for forty-two, and been keeping diaries of clues to that riddle for the last thirty-five. Notes about successes and failures, joys and sorrows, things that made me marvel, and things that made me laugh out loud. How to be fair. How to have less stress. How to have fun. How to hurt people less. How to get hurt less. How to be a good man. How to have meaning in life. How to be more me. Recently, I worked up the courage to sit down with those diaries. I found stories I experienced, lessons I learned and forgot, poems, prayers, prescriptions, beliefs about what matters, some great photographs, and a whole bunch of bumper stickers. I found a reliable theme, an approach to living that gave me more satisfaction, at the time, and still: If you know how, and when, to deal with life’s challenges - how to get relative with the inevitable - you can enjoy a state of success I call “catching greenlights.” So I took a one-way ticket to the desert and wrote this book: an album, a record, a story of my life so far. This is fifty years of my sights and seens, felts and figured-outs, cools and shamefuls. Graces, truths, and beauties of brutality. Getting away withs, getting caughts, and getting wets while trying to dance between the raindrops. Hopefully, it’s medicine that tastes good, a couple of aspirin instead of the infirmary, a spaceship to Mars without needing your pilot’s license, going to church without having to be born again, and laughing through the tears. It’s a love letter. To life. It’s also a guide to catching more greenlights - and to realizing that the yellows and reds eventually turn green too. Good luck.",
         "2020",
         "matthew",
         "Goodreads",
         null,
         "male",
         "goodreads"
        ],
        [
         "195",
         "The Reaper (Dark Verse, #2)",
         "RuNyx",
         "https://www.goodreads.com/book/show/53027547-the-reaper",
         "4.3",
         "88000",
         "What happens when the untameable wind and the endless sea collide in the dark of the night?Tristan ‘The Predator’ Caine had been unprepared for Morana Vitalio. After spending his entire life with a vow he broke on a rainy night, he finds himself torn in a battle between his painful past and an uncertain future. The only thing he knows? Her life still belongs to him.For Morana, the line between enemies and allies has blurred. Everything she once held dear to her has disintegrated and the unknown gapes at her, leaving her with both her freedom and life on the line in enemy territory. The only thing she knows? His life has always belonged to her.With twenty years of history tying them to each other, Tristan and Morana begin their hunt for the truth together. And they realize that the mystery of the missing girls is just the tip of the iceberg.Skeletons are uncovered. Dominoes begin to fall.A storm is born.",
         "2020",
         "runyx",
         "Goodreads",
         null,
         "female",
         "goodreads"
        ],
        [
         "686",
         "Book of Night (Book of Night, #1)",
         "Holly Black",
         "https://www.goodreads.com/book/show/58293924-book-of-night",
         "3.54",
         "79500",
         "Holly Black makes her adult debut with Book of Night, a modern dark fantasy of shadowy thieves and secret societies.In Charlie Hall’s world, shadows can be altered, for entertainment and cosmetic preferences—but also to increase power and influence. You can alter someone’s feelings—and memories—but manipulating shadows has a cost, with the potential to take hours or days from your life. Your shadow holds all the parts of you that you want to keep hidden—a second self, standing just to your left, walking behind you into lit rooms. And sometimes, it has a life of its own.Charlie is a low-level con artist, working as a bartender while trying to distance herself from the powerful and dangerous underground world of shadow trading. She gets by doing odd jobs for her patrons and the naive new money in her town at the edge of the Berkshires. But when a terrible figure from her past returns, Charlie’s present life is thrown into chaos, and her future seems at best, unclear—and at worst, non-existent. Determined to survive, Charlie throws herself into a maelstrom of secrets and murder, setting her against a cast of doppelgängers, mercurial billionaires, shadow thieves, and her own sister—all desperate to control the magic of the shadows.",
         "2022",
         "holly",
         "Goodreads",
         "in New Jersey, The United States",
         "female",
         "goodreads"
        ],
        [
         "142",
         "The Year of the Witching (Bethel, #1)",
         "Alexis Henderson",
         "https://www.goodreads.com/book/show/49789629-the-year-of-the-witching",
         "3.81",
         "42700",
         "A young woman living in a rigid, puritanical society discovers dark powers within herself in this stunning, feminist fantasy debut.In the lands of Bethel, where the Prophet’s word is law, Immanuelle Moore’s very existence is blasphemy. Her mother’s union with an outsider of a different race cast her once-proud family into disgrace, so Immanuelle does her best to worship the Father, follow Holy Protocol, and lead a life of submission, devotion, and absolute conformity, like all the other women in the settlement.But a mishap lures her into the forbidden Darkwood surrounding Bethel, where the first prophet once chased and killed four powerful witches. Their spirits are still lurking there, and they bestow a gift on Immanuelle: the journal of her dead mother, who Immanuelle is shocked to learn once sought sanctuary in the wood.Fascinated by the secrets in the diary, Immanuelle finds herself struggling to understand how her mother could have consorted with the witches. But when she begins to learn grim truths about the Church and its history, she realizes the true threat to Bethel is its own darkness. And she starts to understand that if Bethel is to change, it must begin with her.",
         "2020",
         "alexis",
         "Goodreads",
         "in The United States",
         "female",
         "goodreads"
        ],
        [
         "276",
         "Her Soul to Take (Souls Trilogy, #1)",
         "Harley Laroux",
         "https://www.goodreads.com/book/show/57091457-her-soul-to-take",
         "4.06",
         "120000",
         "Leon I earned my reputation among magicians for a reason: one wrong move and you're dead. Killer, they called me, and killing is what I'm best at. Except her. The one I was supposed to take, the one I should have killed - I didn't. The cult that once controlled me wants her, and I'm not about to lose my new toy to them.Rae I've always believed in the supernatural. Hunting for ghosts is my passion, but summoning a demon was never part of the plan. Monsters are roaming the woods, and something ancient - something evil - is waking up and calling my name. I don't know who I can trust, or how deep this darkness goes. All I know is my one shot at survival is the demon stalking me, and he doesn't just want my body - he wants my soul.Her Soul to Take is book 1 in the Souls Trilogy. Each book within the Souls Trilogy is interconnected, following a different couple through a similar timeline in the fictional world of Abelaum.",
         "2021",
         "harley",
         "Goodreads",
         "in The United States",
         "non-binary",
         "manual"
        ],
        [
         "352",
         "Second First Impressions",
         "Sally  Thorne",
         "https://www.goodreads.com/book/show/45553600-second-first-impressions",
         "3.53",
         "83100",
         "Distraction (n): an extreme agitation of the mind or emotions.Ruthie Midona has worked the front desk at the Providence Luxury Retirement Villa for six years, dedicating her entire adult life to caring for the Villa’s residents, maintaining the property (with an assist from DIY YouTube tutorials), and guarding the endangered tortoises that live in the Villa’s gardens. Somewhere along the way, she’s forgotten that she’s young and beautiful, and that there’s a world outside of work—until she meets the son of the property developer who just acquired the retirement center.Teddy Prescott has spent the last few years partying, sleeping in late, tattooing himself when bored, and generally not taking life too seriously—something his father, who dreams of grooming Teddy into his successor, can’t understand. When Teddy needs a place to crash, his father seizes the chance to get him to grow up. He’ll let Teddy stay in one of the on-site cottages at the retirement home, but only if he works to earn his keep. Teddy agrees—he can change a few lightbulbs and clip some hedges, no sweat. But Ruthie has plans for Teddy too.Her two wealthiest and most eccentric residents have just placed an ad (yet another!) seeking a new personal assistant to torment. The women are ninety-year-old, four-foot-tall menaces, and not one of their assistants has lasted a full week. Offering up Teddy seems like a surefire way to get rid of the tall, handsome, unnerving man who won’t stop getting under her skin.Ruthie doesn’t count on the fact that in Teddy Prescott, the Biddies may have finally met their match. He’ll pick up Chanel gowns from the dry cleaner and cut Big Macs into bite-sized bits. He’ll do repairs around the property, make the residents laugh, and charm the entire villa. He might even remind Ruthie what it’s like to be young and fun again. But when she finds out Teddy’s father’s only fixing up the retirement home to sell it, putting everything she cares about in jeopardy, she’s left wondering if Teddy’s magic was all just a façade.From the USA Today  bestselling author of The Hating Game and 99 Percent Mine comes the clever, funny, and unforgettable story of a muscular, tattooed man hired as an assistant to two old women—under the watchful eye of a beautiful retirement home manager.",
         "2021",
         "sally",
         "Goodreads",
         null,
         "female",
         "manual"
        ]
       ],
       "shape": {
        "columns": 12,
        "rows": 10
       }
      },
      "text/html": [
       "<div>\n",
       "<style scoped>\n",
       "    .dataframe tbody tr th:only-of-type {\n",
       "        vertical-align: middle;\n",
       "    }\n",
       "\n",
       "    .dataframe tbody tr th {\n",
       "        vertical-align: top;\n",
       "    }\n",
       "\n",
       "    .dataframe thead th {\n",
       "        text-align: right;\n",
       "    }\n",
       "</style>\n",
       "<table border=\"1\" class=\"dataframe\">\n",
       "  <thead>\n",
       "    <tr style=\"text-align: right;\">\n",
       "      <th></th>\n",
       "      <th>title</th>\n",
       "      <th>author</th>\n",
       "      <th>link</th>\n",
       "      <th>rating</th>\n",
       "      <th>ratings_count</th>\n",
       "      <th>description</th>\n",
       "      <th>published_year</th>\n",
       "      <th>author_first</th>\n",
       "      <th>source</th>\n",
       "      <th>author_country</th>\n",
       "      <th>author_gender</th>\n",
       "      <th>gender_source</th>\n",
       "    </tr>\n",
       "  </thead>\n",
       "  <tbody>\n",
       "    <tr>\n",
       "      <th>246</th>\n",
       "      <td>The Night She Disappeared</td>\n",
       "      <td>Lisa Jewell</td>\n",
       "      <td>https://www.goodreads.com/book/show/55922299-t...</td>\n",
       "      <td>4.10</td>\n",
       "      <td>291000</td>\n",
       "      <td>2017: 19 year old Tallulah is going out on a d...</td>\n",
       "      <td>2021</td>\n",
       "      <td>lisa</td>\n",
       "      <td>Goodreads</td>\n",
       "      <td>in London, The United Kingdom</td>\n",
       "      <td>female</td>\n",
       "      <td>goodreads</td>\n",
       "    </tr>\n",
       "    <tr>\n",
       "      <th>707</th>\n",
       "      <td>Our Wives Under the Sea</td>\n",
       "      <td>Julia Armfield</td>\n",
       "      <td>https://www.goodreads.com/book/show/58659343-o...</td>\n",
       "      <td>3.75</td>\n",
       "      <td>105000</td>\n",
       "      <td>Miri thinks she has got her wife back, when Le...</td>\n",
       "      <td>2022</td>\n",
       "      <td>julia</td>\n",
       "      <td>Goodreads</td>\n",
       "      <td>in London, England, The United Kingdom</td>\n",
       "      <td>female</td>\n",
       "      <td>goodreads</td>\n",
       "    </tr>\n",
       "    <tr>\n",
       "      <th>315</th>\n",
       "      <td>House of Hollow</td>\n",
       "      <td>Krystal Sutherland</td>\n",
       "      <td>https://www.goodreads.com/book/show/54613751-h...</td>\n",
       "      <td>4.02</td>\n",
       "      <td>93100</td>\n",
       "      <td>Seventeen-year-old Iris Hollow has always been...</td>\n",
       "      <td>2021</td>\n",
       "      <td>krystal</td>\n",
       "      <td>Goodreads</td>\n",
       "      <td>Australia</td>\n",
       "      <td>female</td>\n",
       "      <td>goodreads</td>\n",
       "    </tr>\n",
       "    <tr>\n",
       "      <th>62</th>\n",
       "      <td>Transcendent Kingdom</td>\n",
       "      <td>Yaa Gyasi</td>\n",
       "      <td>https://www.goodreads.com/book/show/48570454-t...</td>\n",
       "      <td>4.10</td>\n",
       "      <td>157000</td>\n",
       "      <td>Yaa Gyasi's stunning follow-up to her acclaime...</td>\n",
       "      <td>2020</td>\n",
       "      <td>yaa</td>\n",
       "      <td>Goodreads</td>\n",
       "      <td>Mampong, Ghana</td>\n",
       "      <td>female</td>\n",
       "      <td>goodreads</td>\n",
       "    </tr>\n",
       "    <tr>\n",
       "      <th>27</th>\n",
       "      <td>Greenlights</td>\n",
       "      <td>Matthew McConaughey</td>\n",
       "      <td>https://www.goodreads.com/book/show/52838315-g...</td>\n",
       "      <td>4.21</td>\n",
       "      <td>410000</td>\n",
       "      <td>From the Academy Award®–winning actor, an unco...</td>\n",
       "      <td>2020</td>\n",
       "      <td>matthew</td>\n",
       "      <td>Goodreads</td>\n",
       "      <td>NaN</td>\n",
       "      <td>male</td>\n",
       "      <td>goodreads</td>\n",
       "    </tr>\n",
       "    <tr>\n",
       "      <th>195</th>\n",
       "      <td>The Reaper (Dark Verse, #2)</td>\n",
       "      <td>RuNyx</td>\n",
       "      <td>https://www.goodreads.com/book/show/53027547-t...</td>\n",
       "      <td>4.30</td>\n",
       "      <td>88000</td>\n",
       "      <td>What happens when the untameable wind and the ...</td>\n",
       "      <td>2020</td>\n",
       "      <td>runyx</td>\n",
       "      <td>Goodreads</td>\n",
       "      <td>NaN</td>\n",
       "      <td>female</td>\n",
       "      <td>goodreads</td>\n",
       "    </tr>\n",
       "    <tr>\n",
       "      <th>686</th>\n",
       "      <td>Book of Night (Book of Night, #1)</td>\n",
       "      <td>Holly Black</td>\n",
       "      <td>https://www.goodreads.com/book/show/58293924-b...</td>\n",
       "      <td>3.54</td>\n",
       "      <td>79500</td>\n",
       "      <td>Holly Black makes her adult debut with Book of...</td>\n",
       "      <td>2022</td>\n",
       "      <td>holly</td>\n",
       "      <td>Goodreads</td>\n",
       "      <td>in New Jersey, The United States</td>\n",
       "      <td>female</td>\n",
       "      <td>goodreads</td>\n",
       "    </tr>\n",
       "    <tr>\n",
       "      <th>142</th>\n",
       "      <td>The Year of the Witching (Bethel, #1)</td>\n",
       "      <td>Alexis Henderson</td>\n",
       "      <td>https://www.goodreads.com/book/show/49789629-t...</td>\n",
       "      <td>3.81</td>\n",
       "      <td>42700</td>\n",
       "      <td>A young woman living in a rigid, puritanical s...</td>\n",
       "      <td>2020</td>\n",
       "      <td>alexis</td>\n",
       "      <td>Goodreads</td>\n",
       "      <td>in The United States</td>\n",
       "      <td>female</td>\n",
       "      <td>goodreads</td>\n",
       "    </tr>\n",
       "    <tr>\n",
       "      <th>276</th>\n",
       "      <td>Her Soul to Take (Souls Trilogy, #1)</td>\n",
       "      <td>Harley Laroux</td>\n",
       "      <td>https://www.goodreads.com/book/show/57091457-h...</td>\n",
       "      <td>4.06</td>\n",
       "      <td>120000</td>\n",
       "      <td>Leon I earned my reputation among magicians fo...</td>\n",
       "      <td>2021</td>\n",
       "      <td>harley</td>\n",
       "      <td>Goodreads</td>\n",
       "      <td>in The United States</td>\n",
       "      <td>non-binary</td>\n",
       "      <td>manual</td>\n",
       "    </tr>\n",
       "    <tr>\n",
       "      <th>352</th>\n",
       "      <td>Second First Impressions</td>\n",
       "      <td>Sally  Thorne</td>\n",
       "      <td>https://www.goodreads.com/book/show/45553600-s...</td>\n",
       "      <td>3.53</td>\n",
       "      <td>83100</td>\n",
       "      <td>Distraction (n): an extreme agitation of the m...</td>\n",
       "      <td>2021</td>\n",
       "      <td>sally</td>\n",
       "      <td>Goodreads</td>\n",
       "      <td>NaN</td>\n",
       "      <td>female</td>\n",
       "      <td>manual</td>\n",
       "    </tr>\n",
       "  </tbody>\n",
       "</table>\n",
       "</div>"
      ],
      "text/plain": [
       "                                     title               author  \\\n",
       "246              The Night She Disappeared          Lisa Jewell   \n",
       "707                Our Wives Under the Sea       Julia Armfield   \n",
       "315                        House of Hollow   Krystal Sutherland   \n",
       "62                    Transcendent Kingdom            Yaa Gyasi   \n",
       "27                             Greenlights  Matthew McConaughey   \n",
       "195            The Reaper (Dark Verse, #2)                RuNyx   \n",
       "686      Book of Night (Book of Night, #1)          Holly Black   \n",
       "142  The Year of the Witching (Bethel, #1)     Alexis Henderson   \n",
       "276   Her Soul to Take (Souls Trilogy, #1)        Harley Laroux   \n",
       "352               Second First Impressions        Sally  Thorne   \n",
       "\n",
       "                                                  link  rating  ratings_count  \\\n",
       "246  https://www.goodreads.com/book/show/55922299-t...    4.10         291000   \n",
       "707  https://www.goodreads.com/book/show/58659343-o...    3.75         105000   \n",
       "315  https://www.goodreads.com/book/show/54613751-h...    4.02          93100   \n",
       "62   https://www.goodreads.com/book/show/48570454-t...    4.10         157000   \n",
       "27   https://www.goodreads.com/book/show/52838315-g...    4.21         410000   \n",
       "195  https://www.goodreads.com/book/show/53027547-t...    4.30          88000   \n",
       "686  https://www.goodreads.com/book/show/58293924-b...    3.54          79500   \n",
       "142  https://www.goodreads.com/book/show/49789629-t...    3.81          42700   \n",
       "276  https://www.goodreads.com/book/show/57091457-h...    4.06         120000   \n",
       "352  https://www.goodreads.com/book/show/45553600-s...    3.53          83100   \n",
       "\n",
       "                                           description  published_year  \\\n",
       "246  2017: 19 year old Tallulah is going out on a d...            2021   \n",
       "707  Miri thinks she has got her wife back, when Le...            2022   \n",
       "315  Seventeen-year-old Iris Hollow has always been...            2021   \n",
       "62   Yaa Gyasi's stunning follow-up to her acclaime...            2020   \n",
       "27   From the Academy Award®–winning actor, an unco...            2020   \n",
       "195  What happens when the untameable wind and the ...            2020   \n",
       "686  Holly Black makes her adult debut with Book of...            2022   \n",
       "142  A young woman living in a rigid, puritanical s...            2020   \n",
       "276  Leon I earned my reputation among magicians fo...            2021   \n",
       "352  Distraction (n): an extreme agitation of the m...            2021   \n",
       "\n",
       "    author_first     source                          author_country  \\\n",
       "246         lisa  Goodreads           in London, The United Kingdom   \n",
       "707        julia  Goodreads  in London, England, The United Kingdom   \n",
       "315      krystal  Goodreads                               Australia   \n",
       "62           yaa  Goodreads                          Mampong, Ghana   \n",
       "27       matthew  Goodreads                                     NaN   \n",
       "195        runyx  Goodreads                                     NaN   \n",
       "686        holly  Goodreads        in New Jersey, The United States   \n",
       "142       alexis  Goodreads                    in The United States   \n",
       "276       harley  Goodreads                    in The United States   \n",
       "352        sally  Goodreads                                     NaN   \n",
       "\n",
       "    author_gender gender_source  \n",
       "246        female     goodreads  \n",
       "707        female     goodreads  \n",
       "315        female     goodreads  \n",
       "62         female     goodreads  \n",
       "27           male     goodreads  \n",
       "195        female     goodreads  \n",
       "686        female     goodreads  \n",
       "142        female     goodreads  \n",
       "276    non-binary        manual  \n",
       "352        female        manual  "
      ]
     },
     "execution_count": 6,
     "metadata": {},
     "output_type": "execute_result"
    }
   ],
   "source": [
    "df.sample(10)"
   ]
  },
  {
   "cell_type": "markdown",
   "metadata": {},
   "source": [
    "# The missing values are only in the country cilumn"
   ]
  },
  {
   "cell_type": "code",
   "execution_count": 10,
   "metadata": {},
   "outputs": [
    {
     "name": "stdout",
     "output_type": "stream",
     "text": [
      "Unique titles and authors:\n"
     ]
    },
    {
     "data": {
      "text/plain": [
       "(998, 600)"
      ]
     },
     "execution_count": 10,
     "metadata": {},
     "output_type": "execute_result"
    }
   ],
   "source": [
    "# Number of unique book titles and authors\n",
    "print(\"Unique titles and authors:\")\n",
    "df[\"title\"].nunique(), df[\"author\"].nunique()"
   ]
  },
  {
   "cell_type": "code",
   "execution_count": 22,
   "metadata": {},
   "outputs": [
    {
     "name": "stdout",
     "output_type": "stream",
     "text": [
      "Duplicates in the dataset:\n"
     ]
    },
    {
     "data": {
      "application/vnd.microsoft.datawrangler.viewer.v0+json": {
       "columns": [
        {
         "name": "index",
         "rawType": "int64",
         "type": "integer"
        },
        {
         "name": "title",
         "rawType": "object",
         "type": "string"
        },
        {
         "name": "author",
         "rawType": "object",
         "type": "string"
        },
        {
         "name": "link",
         "rawType": "object",
         "type": "string"
        },
        {
         "name": "rating",
         "rawType": "float64",
         "type": "float"
        },
        {
         "name": "ratings_count",
         "rawType": "int64",
         "type": "integer"
        },
        {
         "name": "description",
         "rawType": "object",
         "type": "string"
        },
        {
         "name": "published_year",
         "rawType": "int64",
         "type": "integer"
        },
        {
         "name": "author_first",
         "rawType": "object",
         "type": "string"
        },
        {
         "name": "source",
         "rawType": "object",
         "type": "string"
        },
        {
         "name": "author_country",
         "rawType": "object",
         "type": "unknown"
        },
        {
         "name": "author_gender",
         "rawType": "object",
         "type": "string"
        },
        {
         "name": "gender_source",
         "rawType": "object",
         "type": "string"
        }
       ],
       "ref": "15a9d865-80c2-4238-b780-2e8556654b68",
       "rows": [
        [
         "30",
         "One by One",
         "Freida McFadden",
         "https://www.goodreads.com/book/show/54197718-one-by-one",
         "3.87",
         "343000",
         "One by one, they will get what they deserve...A night spent sleeping on dirt and leaves is not how Claire Matchett expected to spend her vacation.She thought this would be a break from the stresses of work and raising her young children. A chance to repair her damaged marriage. A week of hiking and hot tubs with two other couple friends. It sounded like heaven.Then Claire’s minivan breaks down on a lonely dirt road. With no cell reception, the group has no choice but to hike the rest of the way to their hotel. But it turns out the woods aren’t as easy to navigate as they thought.Hours later, they are lost. Hopelessly lost. And as they navigate deeper into the woods, the members of their party are struck down mysteriously one by one. Has a wild animal been hunting them? Or is the hunter one of them?But as more time passes, one thing becomes clear:Only one of them will return home alive.",
         "2020",
         "freida",
         "Goodreads",
         null,
         "female",
         "goodreads"
        ],
        [
         "46",
         "The Wife Upstairs",
         "Freida McFadden",
         "https://www.goodreads.com/book/show/52636419-the-wife-upstairs",
         "4.07",
         "214000",
         "Victoria Barnett has it all.A great career. A handsome and loving husband. A beautiful home in the suburbs and a plan to fill it with children. Life is perfect—or so it seems.Then she’s in a terrible accident… and everything falls apart.Now Victoria is unable to walk. She can’t feed or dress herself. She can’t even speak. She is confined to the top floor of her house with twenty-four-hour care.Sylvia Robinson is hired by Victoria’s husband to help care for her. But it turns out Victoria isn’t as impaired as Sylvia was led to believe. There’s a story Victoria desperately wants to tell... if only she could get out the words.Then Sylvia discovers Victoria’s diary hidden away in a drawer.And what’s inside is shocking.",
         "2020",
         "freida",
         "Goodreads",
         null,
         "female",
         "goodreads"
        ],
        [
         "61",
         "One by One",
         "Ruth Ware",
         "https://www.goodreads.com/book/show/50892433-one-by-one",
         "3.73",
         "209000",
         "Getting snowed in at a beautiful, rustic mountain chalet doesn’t sound like the worst problem in the world, especially when there’s a breathtaking vista, a cozy fire, and company to keep you warm. But what happens when that company is eight of your coworkers…and you can’t trust any of them?When an off-site company retreat meant to promote mindfulness and collaboration goes utterly wrong when an avalanche hits, the corporate food chain becomes irrelevant and survival trumps togetherness. Come Monday morning, how many members short will the team be?The #1 New York Times bestselling author of The Turn of the Key and In a Dark Dark Wood returns with another suspenseful thriller set on a snow-covered mountain.",
         "2020",
         "ruth",
         "Goodreads",
         "in The United Kingdom",
         "female",
         "goodreads"
        ],
        [
         "237",
         "The Wife Upstairs",
         "Rachel Hawkins",
         "https://www.goodreads.com/book/show/53137893-the-wife-upstairs",
         "3.73",
         "300000",
         "A delicious twist on a Gothic classic, The Wife Upstairs pairs Southern charm with atmospheric domestic suspense, perfect for fans of B.A. Paris and Megan Miranda.Meet Jane. Newly arrived to Birmingham, Alabama, Jane is a broke dog-walker in Thornfield Estates––a gated community full of McMansions, shiny SUVs, and bored housewives. The kind of place where no one will notice if Jane lifts the discarded tchotchkes and jewelry off the side tables of her well-heeled clients. Where no one will think to ask if Jane is her real name.But her luck changes when she meets Eddie Rochester. Recently widowed, Eddie is Thornfield Estates’ most mysterious resident. His wife, Bea, drowned in a boating accident with her best friend, their bodies lost to the deep. Jane can’t help but see an opportunity in Eddie––not only is he rich, brooding, and handsome, he could also offer her the kind of protection she’s always yearned for.Yet as Jane and Eddie fall for each other, Jane is increasingly haunted by the legend of Bea, an ambitious beauty with a rags-to-riches origin story, who launched a wildly successful southern lifestyle brand. How can she, plain Jane, ever measure up? And can she win Eddie’s heart before her past––or his––catches up to her?With delicious suspense, incisive wit, and a fresh, feminist sensibility, The Wife Upstairs flips the script on a timeless tale of forbidden romance, ill-advised attraction, and a wife who just won’t stay buried. In this vivid reimagining of one of literature’s most twisted love triangles, which Mrs. Rochester will get her happy ending?",
         "2021",
         "rachel",
         "Goodreads",
         null,
         "female",
         "manual"
        ]
       ],
       "shape": {
        "columns": 12,
        "rows": 4
       }
      },
      "text/html": [
       "<div>\n",
       "<style scoped>\n",
       "    .dataframe tbody tr th:only-of-type {\n",
       "        vertical-align: middle;\n",
       "    }\n",
       "\n",
       "    .dataframe tbody tr th {\n",
       "        vertical-align: top;\n",
       "    }\n",
       "\n",
       "    .dataframe thead th {\n",
       "        text-align: right;\n",
       "    }\n",
       "</style>\n",
       "<table border=\"1\" class=\"dataframe\">\n",
       "  <thead>\n",
       "    <tr style=\"text-align: right;\">\n",
       "      <th></th>\n",
       "      <th>title</th>\n",
       "      <th>author</th>\n",
       "      <th>link</th>\n",
       "      <th>rating</th>\n",
       "      <th>ratings_count</th>\n",
       "      <th>description</th>\n",
       "      <th>published_year</th>\n",
       "      <th>author_first</th>\n",
       "      <th>source</th>\n",
       "      <th>author_country</th>\n",
       "      <th>author_gender</th>\n",
       "      <th>gender_source</th>\n",
       "    </tr>\n",
       "  </thead>\n",
       "  <tbody>\n",
       "    <tr>\n",
       "      <th>30</th>\n",
       "      <td>One by One</td>\n",
       "      <td>Freida McFadden</td>\n",
       "      <td>https://www.goodreads.com/book/show/54197718-o...</td>\n",
       "      <td>3.87</td>\n",
       "      <td>343000</td>\n",
       "      <td>One by one, they will get what they deserve......</td>\n",
       "      <td>2020</td>\n",
       "      <td>freida</td>\n",
       "      <td>Goodreads</td>\n",
       "      <td>NaN</td>\n",
       "      <td>female</td>\n",
       "      <td>goodreads</td>\n",
       "    </tr>\n",
       "    <tr>\n",
       "      <th>46</th>\n",
       "      <td>The Wife Upstairs</td>\n",
       "      <td>Freida McFadden</td>\n",
       "      <td>https://www.goodreads.com/book/show/52636419-t...</td>\n",
       "      <td>4.07</td>\n",
       "      <td>214000</td>\n",
       "      <td>Victoria Barnett has it all.A great career. A ...</td>\n",
       "      <td>2020</td>\n",
       "      <td>freida</td>\n",
       "      <td>Goodreads</td>\n",
       "      <td>NaN</td>\n",
       "      <td>female</td>\n",
       "      <td>goodreads</td>\n",
       "    </tr>\n",
       "    <tr>\n",
       "      <th>61</th>\n",
       "      <td>One by One</td>\n",
       "      <td>Ruth Ware</td>\n",
       "      <td>https://www.goodreads.com/book/show/50892433-o...</td>\n",
       "      <td>3.73</td>\n",
       "      <td>209000</td>\n",
       "      <td>Getting snowed in at a beautiful, rustic mount...</td>\n",
       "      <td>2020</td>\n",
       "      <td>ruth</td>\n",
       "      <td>Goodreads</td>\n",
       "      <td>in The United Kingdom</td>\n",
       "      <td>female</td>\n",
       "      <td>goodreads</td>\n",
       "    </tr>\n",
       "    <tr>\n",
       "      <th>237</th>\n",
       "      <td>The Wife Upstairs</td>\n",
       "      <td>Rachel Hawkins</td>\n",
       "      <td>https://www.goodreads.com/book/show/53137893-t...</td>\n",
       "      <td>3.73</td>\n",
       "      <td>300000</td>\n",
       "      <td>A delicious twist on a Gothic classic, The Wif...</td>\n",
       "      <td>2021</td>\n",
       "      <td>rachel</td>\n",
       "      <td>Goodreads</td>\n",
       "      <td>NaN</td>\n",
       "      <td>female</td>\n",
       "      <td>manual</td>\n",
       "    </tr>\n",
       "  </tbody>\n",
       "</table>\n",
       "</div>"
      ],
      "text/plain": [
       "                 title           author  \\\n",
       "30          One by One  Freida McFadden   \n",
       "46   The Wife Upstairs  Freida McFadden   \n",
       "61          One by One        Ruth Ware   \n",
       "237  The Wife Upstairs   Rachel Hawkins   \n",
       "\n",
       "                                                  link  rating  ratings_count  \\\n",
       "30   https://www.goodreads.com/book/show/54197718-o...    3.87         343000   \n",
       "46   https://www.goodreads.com/book/show/52636419-t...    4.07         214000   \n",
       "61   https://www.goodreads.com/book/show/50892433-o...    3.73         209000   \n",
       "237  https://www.goodreads.com/book/show/53137893-t...    3.73         300000   \n",
       "\n",
       "                                           description  published_year  \\\n",
       "30   One by one, they will get what they deserve......            2020   \n",
       "46   Victoria Barnett has it all.A great career. A ...            2020   \n",
       "61   Getting snowed in at a beautiful, rustic mount...            2020   \n",
       "237  A delicious twist on a Gothic classic, The Wif...            2021   \n",
       "\n",
       "    author_first     source         author_country author_gender gender_source  \n",
       "30        freida  Goodreads                    NaN        female     goodreads  \n",
       "46        freida  Goodreads                    NaN        female     goodreads  \n",
       "61          ruth  Goodreads  in The United Kingdom        female     goodreads  \n",
       "237       rachel  Goodreads                    NaN        female        manual  "
      ]
     },
     "execution_count": 22,
     "metadata": {},
     "output_type": "execute_result"
    }
   ],
   "source": [
    "#Show duplicate rows\n",
    "print(\"Duplicates in the dataset:\")\n",
    "df[df.duplicated(keep=False, subset=[\"title\"])]\n",
    "\n",
    "#There are two books with the same title but different authors. No need to remove duplicates"
   ]
  },
  {
   "cell_type": "code",
   "execution_count": 23,
   "metadata": {},
   "outputs": [
    {
     "data": {
      "text/plain": [
       "Text(0.5, 1.0, 'Distribution of Book Ratings')"
      ]
     },
     "execution_count": 23,
     "metadata": {},
     "output_type": "execute_result"
    },
    {
     "data": {
      "image/png": "[encoded data removed]",
      "text/plain": [
       "<Figure size 1000x600 with 1 Axes>"
      ]
     },
     "metadata": {},
     "output_type": "display_data"
    }
   ],
   "source": [
    "#Distribution of rating\n",
    "plt.figure(figsize=(10, 6))\n",
    "sns.histplot(df[\"rating\"], bins=30, kde=True)\n",
    "plt.title(\"Distribution of Book Ratings\")"
   ]
  },
  {
   "cell_type": "code",
   "execution_count": 29,
   "metadata": {},
   "outputs": [
    {
     "data": {
      "image/png": "[encoded data removed]",
      "text/plain": [
       "<Figure size 1000x600 with 1 Axes>"
      ]
     },
     "metadata": {},
     "output_type": "display_data"
    }
   ],
   "source": [
    "\n",
    "\n",
    "# Distribution of rating count i.e. popularity by 1000s\n",
    "plt.figure(figsize=(10, 6))\n",
    "sns.histplot(df[\"ratings_count\"], bins=30, kde=True)\n",
    "\n",
    "# Format x-axis in thousands\n",
    "formatter = FuncFormatter(lambda x, _: f'{x/1000:.0f}K')\n",
    "plt.gca().xaxis.set_major_formatter(formatter)\n",
    "\n",
    "# Labels\n",
    "plt.xlabel(\"Ratings Count (in thousands)\")\n",
    "plt.title(\"Distribution of Ratings Count\")\n",
    "plt.show()"
   ]
  },
  {
   "cell_type": "code",
   "execution_count": 33,
   "metadata": {},
   "outputs": [
    {
     "data": {
      "image/png": "[encoded data removed]",
      "text/plain": [
       "<Figure size 1000x600 with 1 Axes>"
      ]
     },
     "metadata": {},
     "output_type": "display_data"
    }
   ],
   "source": [
    "#Published year distribution in a pie chart\n",
    "plt.figure(figsize=(10, 6))\n",
    "sns.countplot(data=df, x=\"published_year\", order=df[\"published_year\"].value_counts().index)\n",
    "plt.title(\"Distribution of Books by Published Year\")\n",
    "# Format x-axis to show years\n",
    "plt.xticks(rotation=45)\n",
    "plt.xlabel(\"Published Year\")\n",
    "plt.show()"
   ]
  },
  {
   "cell_type": "markdown",
   "metadata": {},
   "source": [
    "Exactly 200 books in each year as data was collected."
   ]
  },
  {
   "cell_type": "code",
   "execution_count": 35,
   "metadata": {},
   "outputs": [
    {
     "data": {
      "image/png": "[encoded data removed]",
      "text/plain": [
       "<Figure size 800x800 with 1 Axes>"
      ]
     },
     "metadata": {},
     "output_type": "display_data"
    }
   ],
   "source": [
    "#Author gender distribution\n",
    "import matplotlib.pyplot as plt\n",
    "\n",
    "# Example data for author_gender distribution\n",
    "author_gender_counts = df['author_gender'].value_counts()\n",
    "\n",
    "# Define colors for each gender\n",
    "colors = {\n",
    "    'female': '#ff9999',  # Light red\n",
    "    'male': '#66b3ff',    # Light blue\n",
    "    'non-binary': '#99ff99'  # Light green\n",
    "}\n",
    "\n",
    "# Map colors to the gender categories\n",
    "pie_colors = [colors[gender] for gender in author_gender_counts.index]\n",
    "\n",
    "# Create pie chart\n",
    "plt.figure(figsize=(8, 8))\n",
    "plt.pie(\n",
    "    author_gender_counts, \n",
    "    labels=author_gender_counts.index, \n",
    "    autopct='%1.1f%%', \n",
    "    startangle=90, \n",
    "    colors=pie_colors\n",
    ")\n",
    "\n",
    "# Title\n",
    "plt.title(\"Author Gender Distribution\")\n",
    "plt.show()"
   ]
  },
  {
   "cell_type": "markdown",
   "metadata": {},
   "source": [
    "### Handling Author countries"
   ]
  },
  {
   "cell_type": "code",
   "execution_count": 36,
   "metadata": {},
   "outputs": [
    {
     "data": {
      "application/vnd.microsoft.datawrangler.viewer.v0+json": {
       "columns": [
        {
         "name": "index",
         "rawType": "int64",
         "type": "integer"
        },
        {
         "name": "author_country",
         "rawType": "object",
         "type": "unknown"
        }
       ],
       "ref": "f8f43e9b-33fa-45ac-b027-a4d5f9765e82",
       "rows": [
        [
         "0",
         "in Sheffield, The United Kingdom"
        ],
        [
         "1",
         null
        ],
        [
         "2",
         null
        ],
        [
         "3",
         "in New York, NY, The United States"
        ],
        [
         "4",
         "Tulsa, Oklahoma, The United States"
        ],
        [
         "5",
         "Martinsburg, The United States"
        ],
        [
         "6",
         "in  Hartford, Connecticut, The United States"
        ],
        [
         "7",
         "London, The United Kingdom"
        ],
        [
         "8",
         "The United States"
        ],
        [
         "9",
         null
        ],
        [
         "10",
         "in The United States"
        ],
        [
         "11",
         null
        ],
        [
         "12",
         null
        ],
        [
         "13",
         "in Billericay, Essex, England, The United Kingdom"
        ],
        [
         "14",
         null
        ],
        [
         "15",
         null
        ],
        [
         "16",
         null
        ],
        [
         "17",
         "Martinsburg, The United States"
        ],
        [
         "18",
         "in Mexico"
        ],
        [
         "19",
         "in Spain"
        ],
        [
         "20",
         "in The United States"
        ],
        [
         "21",
         "in Nottingham, England, The United Kingdom"
        ],
        [
         "22",
         "in Maine, The United States"
        ],
        [
         "23",
         null
        ],
        [
         "24",
         "in Dubuque, IA"
        ],
        [
         "25",
         "The United States"
        ],
        [
         "26",
         "The United States"
        ],
        [
         "27",
         null
        ],
        [
         "28",
         null
        ],
        [
         "29",
         null
        ],
        [
         "30",
         null
        ],
        [
         "31",
         null
        ],
        [
         "32",
         "in Honolulu, Hawaii, The United States"
        ],
        [
         "33",
         null
        ],
        [
         "34",
         "The United States"
        ],
        [
         "35",
         "in The United States"
        ],
        [
         "36",
         "in Connecticut, The United States"
        ],
        [
         "37",
         "New York, The United States"
        ],
        [
         "38",
         null
        ],
        [
         "39",
         "Boston, MA, The United States"
        ],
        [
         "40",
         "Coleraine, Ireland"
        ],
        [
         "41",
         null
        ],
        [
         "42",
         null
        ],
        [
         "43",
         "in Charleston, SC, The United States"
        ],
        [
         "44",
         "The United Kingdom"
        ],
        [
         "45",
         "in Chicago , The United States"
        ],
        [
         "46",
         null
        ],
        [
         "47",
         null
        ],
        [
         "48",
         null
        ],
        [
         "49",
         "in New Jersey, The United States"
        ]
       ],
       "shape": {
        "columns": 1,
        "rows": 1000
       }
      },
      "text/plain": [
       "0                       in Sheffield, The United Kingdom\n",
       "1                                                    NaN\n",
       "2                                                    NaN\n",
       "3                     in New York, NY, The United States\n",
       "4                     Tulsa, Oklahoma, The United States\n",
       "                             ...                        \n",
       "995                                               Canada\n",
       "996                           London, The United Kingdom\n",
       "997                                                  NaN\n",
       "998                  in Lexington, MA, The United States\n",
       "999    in Eastleigh, Hampshire, England, The United K...\n",
       "Name: author_country, Length: 1000, dtype: object"
      ]
     },
     "execution_count": 36,
     "metadata": {},
     "output_type": "execute_result"
    }
   ],
   "source": [
    "df[\"author_country\"]"
   ]
  },
  {
   "cell_type": "code",
   "execution_count": 48,
   "metadata": {},
   "outputs": [
    {
     "name": "stderr",
     "output_type": "stream",
     "text": [
      "WARNING:root:Applied processor reduces input query to empty string, all comparisons will have score 0. [Query: '']\n",
      "WARNING:root:Applied processor reduces input query to empty string, all comparisons will have score 0. [Query: '']\n",
      "WARNING:root:Applied processor reduces input query to empty string, all comparisons will have score 0. [Query: '']\n",
      "WARNING:root:Applied processor reduces input query to empty string, all comparisons will have score 0. [Query: '']\n",
      "WARNING:root:Applied processor reduces input query to empty string, all comparisons will have score 0. [Query: '']\n",
      "WARNING:root:Applied processor reduces input query to empty string, all comparisons will have score 0. [Query: '']\n",
      "WARNING:root:Applied processor reduces input query to empty string, all comparisons will have score 0. [Query: '']\n",
      "WARNING:root:Applied processor reduces input query to empty string, all comparisons will have score 0. [Query: '']\n",
      "WARNING:root:Applied processor reduces input query to empty string, all comparisons will have score 0. [Query: '']\n",
      "WARNING:root:Applied processor reduces input query to empty string, all comparisons will have score 0. [Query: '']\n",
      "WARNING:root:Applied processor reduces input query to empty string, all comparisons will have score 0. [Query: '']\n",
      "WARNING:root:Applied processor reduces input query to empty string, all comparisons will have score 0. [Query: '']\n",
      "WARNING:root:Applied processor reduces input query to empty string, all comparisons will have score 0. [Query: '']\n",
      "WARNING:root:Applied processor reduces input query to empty string, all comparisons will have score 0. [Query: '']\n",
      "WARNING:root:Applied processor reduces input query to empty string, all comparisons will have score 0. [Query: '']\n",
      "WARNING:root:Applied processor reduces input query to empty string, all comparisons will have score 0. [Query: '']\n",
      "WARNING:root:Applied processor reduces input query to empty string, all comparisons will have score 0. [Query: '']\n",
      "WARNING:root:Applied processor reduces input query to empty string, all comparisons will have score 0. [Query: '']\n",
      "WARNING:root:Applied processor reduces input query to empty string, all comparisons will have score 0. [Query: '']\n",
      "WARNING:root:Applied processor reduces input query to empty string, all comparisons will have score 0. [Query: '']\n",
      "WARNING:root:Applied processor reduces input query to empty string, all comparisons will have score 0. [Query: '']\n",
      "WARNING:root:Applied processor reduces input query to empty string, all comparisons will have score 0. [Query: '']\n",
      "WARNING:root:Applied processor reduces input query to empty string, all comparisons will have score 0. [Query: '']\n",
      "WARNING:root:Applied processor reduces input query to empty string, all comparisons will have score 0. [Query: '']\n",
      "WARNING:root:Applied processor reduces input query to empty string, all comparisons will have score 0. [Query: '']\n",
      "WARNING:root:Applied processor reduces input query to empty string, all comparisons will have score 0. [Query: '']\n",
      "WARNING:root:Applied processor reduces input query to empty string, all comparisons will have score 0. [Query: '']\n",
      "WARNING:root:Applied processor reduces input query to empty string, all comparisons will have score 0. [Query: '']\n",
      "WARNING:root:Applied processor reduces input query to empty string, all comparisons will have score 0. [Query: '']\n",
      "WARNING:root:Applied processor reduces input query to empty string, all comparisons will have score 0. [Query: '']\n",
      "WARNING:root:Applied processor reduces input query to empty string, all comparisons will have score 0. [Query: '']\n",
      "WARNING:root:Applied processor reduces input query to empty string, all comparisons will have score 0. [Query: '']\n",
      "WARNING:root:Applied processor reduces input query to empty string, all comparisons will have score 0. [Query: '']\n",
      "WARNING:root:Applied processor reduces input query to empty string, all comparisons will have score 0. [Query: '']\n",
      "WARNING:root:Applied processor reduces input query to empty string, all comparisons will have score 0. [Query: '']\n",
      "WARNING:root:Applied processor reduces input query to empty string, all comparisons will have score 0. [Query: '']\n",
      "WARNING:root:Applied processor reduces input query to empty string, all comparisons will have score 0. [Query: '']\n",
      "WARNING:root:Applied processor reduces input query to empty string, all comparisons will have score 0. [Query: '']\n",
      "WARNING:root:Applied processor reduces input query to empty string, all comparisons will have score 0. [Query: '']\n",
      "WARNING:root:Applied processor reduces input query to empty string, all comparisons will have score 0. [Query: '']\n",
      "WARNING:root:Applied processor reduces input query to empty string, all comparisons will have score 0. [Query: '']\n",
      "WARNING:root:Applied processor reduces input query to empty string, all comparisons will have score 0. [Query: '']\n",
      "WARNING:root:Applied processor reduces input query to empty string, all comparisons will have score 0. [Query: '']\n",
      "WARNING:root:Applied processor reduces input query to empty string, all comparisons will have score 0. [Query: '']\n",
      "WARNING:root:Applied processor reduces input query to empty string, all comparisons will have score 0. [Query: '']\n",
      "WARNING:root:Applied processor reduces input query to empty string, all comparisons will have score 0. [Query: '']\n",
      "WARNING:root:Applied processor reduces input query to empty string, all comparisons will have score 0. [Query: '']\n",
      "WARNING:root:Applied processor reduces input query to empty string, all comparisons will have score 0. [Query: '']\n",
      "WARNING:root:Applied processor reduces input query to empty string, all comparisons will have score 0. [Query: '']\n",
      "WARNING:root:Applied processor reduces input query to empty string, all comparisons will have score 0. [Query: '']\n",
      "WARNING:root:Applied processor reduces input query to empty string, all comparisons will have score 0. [Query: '']\n",
      "WARNING:root:Applied processor reduces input query to empty string, all comparisons will have score 0. [Query: '']\n",
      "WARNING:root:Applied processor reduces input query to empty string, all comparisons will have score 0. [Query: '']\n",
      "WARNING:root:Applied processor reduces input query to empty string, all comparisons will have score 0. [Query: '']\n",
      "WARNING:root:Applied processor reduces input query to empty string, all comparisons will have score 0. [Query: '']\n",
      "WARNING:root:Applied processor reduces input query to empty string, all comparisons will have score 0. [Query: '']\n",
      "WARNING:root:Applied processor reduces input query to empty string, all comparisons will have score 0. [Query: '']\n",
      "WARNING:root:Applied processor reduces input query to empty string, all comparisons will have score 0. [Query: '']\n",
      "WARNING:root:Applied processor reduces input query to empty string, all comparisons will have score 0. [Query: '']\n",
      "WARNING:root:Applied processor reduces input query to empty string, all comparisons will have score 0. [Query: '']\n",
      "WARNING:root:Applied processor reduces input query to empty string, all comparisons will have score 0. [Query: '']\n",
      "WARNING:root:Applied processor reduces input query to empty string, all comparisons will have score 0. [Query: '']\n",
      "WARNING:root:Applied processor reduces input query to empty string, all comparisons will have score 0. [Query: '']\n",
      "WARNING:root:Applied processor reduces input query to empty string, all comparisons will have score 0. [Query: '']\n",
      "WARNING:root:Applied processor reduces input query to empty string, all comparisons will have score 0. [Query: '']\n",
      "WARNING:root:Applied processor reduces input query to empty string, all comparisons will have score 0. [Query: '']\n",
      "WARNING:root:Applied processor reduces input query to empty string, all comparisons will have score 0. [Query: '']\n",
      "WARNING:root:Applied processor reduces input query to empty string, all comparisons will have score 0. [Query: '']\n",
      "WARNING:root:Applied processor reduces input query to empty string, all comparisons will have score 0. [Query: '']\n",
      "WARNING:root:Applied processor reduces input query to empty string, all comparisons will have score 0. [Query: '']\n",
      "WARNING:root:Applied processor reduces input query to empty string, all comparisons will have score 0. [Query: '']\n",
      "WARNING:root:Applied processor reduces input query to empty string, all comparisons will have score 0. [Query: '']\n",
      "WARNING:root:Applied processor reduces input query to empty string, all comparisons will have score 0. [Query: '']\n",
      "WARNING:root:Applied processor reduces input query to empty string, all comparisons will have score 0. [Query: '']\n",
      "WARNING:root:Applied processor reduces input query to empty string, all comparisons will have score 0. [Query: '']\n",
      "WARNING:root:Applied processor reduces input query to empty string, all comparisons will have score 0. [Query: '']\n",
      "WARNING:root:Applied processor reduces input query to empty string, all comparisons will have score 0. [Query: '']\n",
      "WARNING:root:Applied processor reduces input query to empty string, all comparisons will have score 0. [Query: '']\n",
      "WARNING:root:Applied processor reduces input query to empty string, all comparisons will have score 0. [Query: '']\n",
      "WARNING:root:Applied processor reduces input query to empty string, all comparisons will have score 0. [Query: '']\n",
      "WARNING:root:Applied processor reduces input query to empty string, all comparisons will have score 0. [Query: '']\n",
      "WARNING:root:Applied processor reduces input query to empty string, all comparisons will have score 0. [Query: '']\n",
      "WARNING:root:Applied processor reduces input query to empty string, all comparisons will have score 0. [Query: '']\n",
      "WARNING:root:Applied processor reduces input query to empty string, all comparisons will have score 0. [Query: '']\n",
      "WARNING:root:Applied processor reduces input query to empty string, all comparisons will have score 0. [Query: '']\n",
      "WARNING:root:Applied processor reduces input query to empty string, all comparisons will have score 0. [Query: '']\n",
      "WARNING:root:Applied processor reduces input query to empty string, all comparisons will have score 0. [Query: '']\n",
      "WARNING:root:Applied processor reduces input query to empty string, all comparisons will have score 0. [Query: '']\n",
      "WARNING:root:Applied processor reduces input query to empty string, all comparisons will have score 0. [Query: '']\n",
      "WARNING:root:Applied processor reduces input query to empty string, all comparisons will have score 0. [Query: '']\n",
      "WARNING:root:Applied processor reduces input query to empty string, all comparisons will have score 0. [Query: '']\n",
      "WARNING:root:Applied processor reduces input query to empty string, all comparisons will have score 0. [Query: '']\n",
      "WARNING:root:Applied processor reduces input query to empty string, all comparisons will have score 0. [Query: '']\n",
      "WARNING:root:Applied processor reduces input query to empty string, all comparisons will have score 0. [Query: '']\n",
      "WARNING:root:Applied processor reduces input query to empty string, all comparisons will have score 0. [Query: '']\n",
      "WARNING:root:Applied processor reduces input query to empty string, all comparisons will have score 0. [Query: '']\n",
      "WARNING:root:Applied processor reduces input query to empty string, all comparisons will have score 0. [Query: '']\n",
      "WARNING:root:Applied processor reduces input query to empty string, all comparisons will have score 0. [Query: '']\n",
      "WARNING:root:Applied processor reduces input query to empty string, all comparisons will have score 0. [Query: '']\n",
      "WARNING:root:Applied processor reduces input query to empty string, all comparisons will have score 0. [Query: '']\n",
      "WARNING:root:Applied processor reduces input query to empty string, all comparisons will have score 0. [Query: '']\n",
      "WARNING:root:Applied processor reduces input query to empty string, all comparisons will have score 0. [Query: '']\n",
      "WARNING:root:Applied processor reduces input query to empty string, all comparisons will have score 0. [Query: '']\n",
      "WARNING:root:Applied processor reduces input query to empty string, all comparisons will have score 0. [Query: '']\n",
      "WARNING:root:Applied processor reduces input query to empty string, all comparisons will have score 0. [Query: '']\n",
      "WARNING:root:Applied processor reduces input query to empty string, all comparisons will have score 0. [Query: '']\n",
      "WARNING:root:Applied processor reduces input query to empty string, all comparisons will have score 0. [Query: '']\n",
      "WARNING:root:Applied processor reduces input query to empty string, all comparisons will have score 0. [Query: '']\n",
      "WARNING:root:Applied processor reduces input query to empty string, all comparisons will have score 0. [Query: '']\n",
      "WARNING:root:Applied processor reduces input query to empty string, all comparisons will have score 0. [Query: '']\n",
      "WARNING:root:Applied processor reduces input query to empty string, all comparisons will have score 0. [Query: '']\n",
      "WARNING:root:Applied processor reduces input query to empty string, all comparisons will have score 0. [Query: '']\n",
      "WARNING:root:Applied processor reduces input query to empty string, all comparisons will have score 0. [Query: '']\n",
      "WARNING:root:Applied processor reduces input query to empty string, all comparisons will have score 0. [Query: '']\n",
      "WARNING:root:Applied processor reduces input query to empty string, all comparisons will have score 0. [Query: '']\n",
      "WARNING:root:Applied processor reduces input query to empty string, all comparisons will have score 0. [Query: '']\n",
      "WARNING:root:Applied processor reduces input query to empty string, all comparisons will have score 0. [Query: '']\n",
      "WARNING:root:Applied processor reduces input query to empty string, all comparisons will have score 0. [Query: '']\n",
      "WARNING:root:Applied processor reduces input query to empty string, all comparisons will have score 0. [Query: '']\n",
      "WARNING:root:Applied processor reduces input query to empty string, all comparisons will have score 0. [Query: '']\n",
      "WARNING:root:Applied processor reduces input query to empty string, all comparisons will have score 0. [Query: '']\n",
      "WARNING:root:Applied processor reduces input query to empty string, all comparisons will have score 0. [Query: '']\n",
      "WARNING:root:Applied processor reduces input query to empty string, all comparisons will have score 0. [Query: '']\n",
      "WARNING:root:Applied processor reduces input query to empty string, all comparisons will have score 0. [Query: '']\n",
      "WARNING:root:Applied processor reduces input query to empty string, all comparisons will have score 0. [Query: '']\n",
      "WARNING:root:Applied processor reduces input query to empty string, all comparisons will have score 0. [Query: '']\n",
      "WARNING:root:Applied processor reduces input query to empty string, all comparisons will have score 0. [Query: '']\n",
      "WARNING:root:Applied processor reduces input query to empty string, all comparisons will have score 0. [Query: '']\n",
      "WARNING:root:Applied processor reduces input query to empty string, all comparisons will have score 0. [Query: '']\n",
      "WARNING:root:Applied processor reduces input query to empty string, all comparisons will have score 0. [Query: '']\n",
      "WARNING:root:Applied processor reduces input query to empty string, all comparisons will have score 0. [Query: '']\n",
      "WARNING:root:Applied processor reduces input query to empty string, all comparisons will have score 0. [Query: '']\n",
      "WARNING:root:Applied processor reduces input query to empty string, all comparisons will have score 0. [Query: '']\n",
      "WARNING:root:Applied processor reduces input query to empty string, all comparisons will have score 0. [Query: '']\n",
      "WARNING:root:Applied processor reduces input query to empty string, all comparisons will have score 0. [Query: '']\n",
      "WARNING:root:Applied processor reduces input query to empty string, all comparisons will have score 0. [Query: '']\n",
      "WARNING:root:Applied processor reduces input query to empty string, all comparisons will have score 0. [Query: '']\n",
      "WARNING:root:Applied processor reduces input query to empty string, all comparisons will have score 0. [Query: '']\n",
      "WARNING:root:Applied processor reduces input query to empty string, all comparisons will have score 0. [Query: '']\n",
      "WARNING:root:Applied processor reduces input query to empty string, all comparisons will have score 0. [Query: '']\n",
      "WARNING:root:Applied processor reduces input query to empty string, all comparisons will have score 0. [Query: '']\n",
      "WARNING:root:Applied processor reduces input query to empty string, all comparisons will have score 0. [Query: '']\n",
      "WARNING:root:Applied processor reduces input query to empty string, all comparisons will have score 0. [Query: '']\n",
      "WARNING:root:Applied processor reduces input query to empty string, all comparisons will have score 0. [Query: '']\n",
      "WARNING:root:Applied processor reduces input query to empty string, all comparisons will have score 0. [Query: '']\n",
      "WARNING:root:Applied processor reduces input query to empty string, all comparisons will have score 0. [Query: '']\n",
      "WARNING:root:Applied processor reduces input query to empty string, all comparisons will have score 0. [Query: '']\n",
      "WARNING:root:Applied processor reduces input query to empty string, all comparisons will have score 0. [Query: '']\n",
      "WARNING:root:Applied processor reduces input query to empty string, all comparisons will have score 0. [Query: '']\n",
      "WARNING:root:Applied processor reduces input query to empty string, all comparisons will have score 0. [Query: '']\n",
      "WARNING:root:Applied processor reduces input query to empty string, all comparisons will have score 0. [Query: '']\n",
      "WARNING:root:Applied processor reduces input query to empty string, all comparisons will have score 0. [Query: '']\n",
      "WARNING:root:Applied processor reduces input query to empty string, all comparisons will have score 0. [Query: '']\n",
      "WARNING:root:Applied processor reduces input query to empty string, all comparisons will have score 0. [Query: '']\n",
      "WARNING:root:Applied processor reduces input query to empty string, all comparisons will have score 0. [Query: '']\n",
      "WARNING:root:Applied processor reduces input query to empty string, all comparisons will have score 0. [Query: '']\n",
      "WARNING:root:Applied processor reduces input query to empty string, all comparisons will have score 0. [Query: '']\n",
      "WARNING:root:Applied processor reduces input query to empty string, all comparisons will have score 0. [Query: '']\n",
      "WARNING:root:Applied processor reduces input query to empty string, all comparisons will have score 0. [Query: '']\n",
      "WARNING:root:Applied processor reduces input query to empty string, all comparisons will have score 0. [Query: '']\n",
      "WARNING:root:Applied processor reduces input query to empty string, all comparisons will have score 0. [Query: '']\n",
      "WARNING:root:Applied processor reduces input query to empty string, all comparisons will have score 0. [Query: '']\n",
      "WARNING:root:Applied processor reduces input query to empty string, all comparisons will have score 0. [Query: '']\n",
      "WARNING:root:Applied processor reduces input query to empty string, all comparisons will have score 0. [Query: '']\n",
      "WARNING:root:Applied processor reduces input query to empty string, all comparisons will have score 0. [Query: '']\n",
      "WARNING:root:Applied processor reduces input query to empty string, all comparisons will have score 0. [Query: '']\n",
      "WARNING:root:Applied processor reduces input query to empty string, all comparisons will have score 0. [Query: '']\n",
      "WARNING:root:Applied processor reduces input query to empty string, all comparisons will have score 0. [Query: '']\n",
      "WARNING:root:Applied processor reduces input query to empty string, all comparisons will have score 0. [Query: '']\n",
      "WARNING:root:Applied processor reduces input query to empty string, all comparisons will have score 0. [Query: '']\n",
      "WARNING:root:Applied processor reduces input query to empty string, all comparisons will have score 0. [Query: '']\n",
      "WARNING:root:Applied processor reduces input query to empty string, all comparisons will have score 0. [Query: '']\n",
      "WARNING:root:Applied processor reduces input query to empty string, all comparisons will have score 0. [Query: '']\n",
      "WARNING:root:Applied processor reduces input query to empty string, all comparisons will have score 0. [Query: '']\n",
      "WARNING:root:Applied processor reduces input query to empty string, all comparisons will have score 0. [Query: '']\n",
      "WARNING:root:Applied processor reduces input query to empty string, all comparisons will have score 0. [Query: '']\n",
      "WARNING:root:Applied processor reduces input query to empty string, all comparisons will have score 0. [Query: '']\n",
      "WARNING:root:Applied processor reduces input query to empty string, all comparisons will have score 0. [Query: '']\n",
      "WARNING:root:Applied processor reduces input query to empty string, all comparisons will have score 0. [Query: '']\n",
      "WARNING:root:Applied processor reduces input query to empty string, all comparisons will have score 0. [Query: '']\n",
      "WARNING:root:Applied processor reduces input query to empty string, all comparisons will have score 0. [Query: '']\n",
      "WARNING:root:Applied processor reduces input query to empty string, all comparisons will have score 0. [Query: '']\n",
      "WARNING:root:Applied processor reduces input query to empty string, all comparisons will have score 0. [Query: '']\n",
      "WARNING:root:Applied processor reduces input query to empty string, all comparisons will have score 0. [Query: '']\n",
      "WARNING:root:Applied processor reduces input query to empty string, all comparisons will have score 0. [Query: '']\n",
      "WARNING:root:Applied processor reduces input query to empty string, all comparisons will have score 0. [Query: '']\n",
      "WARNING:root:Applied processor reduces input query to empty string, all comparisons will have score 0. [Query: '']\n",
      "WARNING:root:Applied processor reduces input query to empty string, all comparisons will have score 0. [Query: '']\n",
      "WARNING:root:Applied processor reduces input query to empty string, all comparisons will have score 0. [Query: '']\n",
      "WARNING:root:Applied processor reduces input query to empty string, all comparisons will have score 0. [Query: '']\n",
      "WARNING:root:Applied processor reduces input query to empty string, all comparisons will have score 0. [Query: '']\n",
      "WARNING:root:Applied processor reduces input query to empty string, all comparisons will have score 0. [Query: '']\n",
      "WARNING:root:Applied processor reduces input query to empty string, all comparisons will have score 0. [Query: '']\n",
      "WARNING:root:Applied processor reduces input query to empty string, all comparisons will have score 0. [Query: '']\n",
      "WARNING:root:Applied processor reduces input query to empty string, all comparisons will have score 0. [Query: '']\n",
      "WARNING:root:Applied processor reduces input query to empty string, all comparisons will have score 0. [Query: '']\n",
      "WARNING:root:Applied processor reduces input query to empty string, all comparisons will have score 0. [Query: '']\n",
      "WARNING:root:Applied processor reduces input query to empty string, all comparisons will have score 0. [Query: '']\n",
      "WARNING:root:Applied processor reduces input query to empty string, all comparisons will have score 0. [Query: '']\n",
      "WARNING:root:Applied processor reduces input query to empty string, all comparisons will have score 0. [Query: '']\n",
      "WARNING:root:Applied processor reduces input query to empty string, all comparisons will have score 0. [Query: '']\n",
      "WARNING:root:Applied processor reduces input query to empty string, all comparisons will have score 0. [Query: '']\n",
      "WARNING:root:Applied processor reduces input query to empty string, all comparisons will have score 0. [Query: '']\n",
      "WARNING:root:Applied processor reduces input query to empty string, all comparisons will have score 0. [Query: '']\n",
      "WARNING:root:Applied processor reduces input query to empty string, all comparisons will have score 0. [Query: '']\n",
      "WARNING:root:Applied processor reduces input query to empty string, all comparisons will have score 0. [Query: '']\n",
      "WARNING:root:Applied processor reduces input query to empty string, all comparisons will have score 0. [Query: '']\n",
      "WARNING:root:Applied processor reduces input query to empty string, all comparisons will have score 0. [Query: '']\n",
      "WARNING:root:Applied processor reduces input query to empty string, all comparisons will have score 0. [Query: '']\n",
      "WARNING:root:Applied processor reduces input query to empty string, all comparisons will have score 0. [Query: '']\n",
      "WARNING:root:Applied processor reduces input query to empty string, all comparisons will have score 0. [Query: '']\n",
      "WARNING:root:Applied processor reduces input query to empty string, all comparisons will have score 0. [Query: '']\n",
      "WARNING:root:Applied processor reduces input query to empty string, all comparisons will have score 0. [Query: '']\n",
      "WARNING:root:Applied processor reduces input query to empty string, all comparisons will have score 0. [Query: '']\n",
      "WARNING:root:Applied processor reduces input query to empty string, all comparisons will have score 0. [Query: '']\n",
      "WARNING:root:Applied processor reduces input query to empty string, all comparisons will have score 0. [Query: '']\n",
      "WARNING:root:Applied processor reduces input query to empty string, all comparisons will have score 0. [Query: '']\n",
      "WARNING:root:Applied processor reduces input query to empty string, all comparisons will have score 0. [Query: '']\n",
      "WARNING:root:Applied processor reduces input query to empty string, all comparisons will have score 0. [Query: '']\n",
      "WARNING:root:Applied processor reduces input query to empty string, all comparisons will have score 0. [Query: '']\n",
      "WARNING:root:Applied processor reduces input query to empty string, all comparisons will have score 0. [Query: '']\n",
      "WARNING:root:Applied processor reduces input query to empty string, all comparisons will have score 0. [Query: '']\n",
      "WARNING:root:Applied processor reduces input query to empty string, all comparisons will have score 0. [Query: '']\n",
      "WARNING:root:Applied processor reduces input query to empty string, all comparisons will have score 0. [Query: '']\n",
      "WARNING:root:Applied processor reduces input query to empty string, all comparisons will have score 0. [Query: '']\n",
      "WARNING:root:Applied processor reduces input query to empty string, all comparisons will have score 0. [Query: '']\n",
      "WARNING:root:Applied processor reduces input query to empty string, all comparisons will have score 0. [Query: '']\n",
      "WARNING:root:Applied processor reduces input query to empty string, all comparisons will have score 0. [Query: '']\n",
      "WARNING:root:Applied processor reduces input query to empty string, all comparisons will have score 0. [Query: '']\n",
      "WARNING:root:Applied processor reduces input query to empty string, all comparisons will have score 0. [Query: '']\n"
     ]
    },
    {
     "ename": "KeyboardInterrupt",
     "evalue": "",
     "output_type": "error",
     "traceback": [
      "\u001b[0;31m---------------------------------------------------------------------------\u001b[0m",
      "\u001b[0;31mAttributeError\u001b[0m                            Traceback (most recent call last)",
      "File \u001b[0;32m/opt/anaconda3/lib/python3.11/site-packages/fuzzywuzzy/process.py:108\u001b[0m, in \u001b[0;36mextractWithoutOrder\u001b[0;34m(query, choices, processor, scorer, score_cutoff)\u001b[0m\n\u001b[1;32m    106\u001b[0m \u001b[38;5;28;01mtry\u001b[39;00m:\n\u001b[1;32m    107\u001b[0m     \u001b[38;5;66;03m# See if choices is a dictionary-like object.\u001b[39;00m\n\u001b[0;32m--> 108\u001b[0m     \u001b[38;5;28;01mfor\u001b[39;00m key, choice \u001b[38;5;129;01min\u001b[39;00m \u001b[43mchoices\u001b[49m\u001b[38;5;241;43m.\u001b[39;49m\u001b[43mitems\u001b[49m():\n\u001b[1;32m    109\u001b[0m         processed \u001b[38;5;241m=\u001b[39m pre_processor(processor(choice))\n",
      "\u001b[0;31mAttributeError\u001b[0m: 'list' object has no attribute 'items'",
      "\nDuring handling of the above exception, another exception occurred:\n",
      "\u001b[0;31mKeyboardInterrupt\u001b[0m                         Traceback (most recent call last)",
      "Cell \u001b[0;32mIn[48], line 21\u001b[0m\n\u001b[1;32m     18\u001b[0m     \u001b[38;5;28;01mreturn\u001b[39;00m \u001b[38;5;28;01mNone\u001b[39;00m  \u001b[38;5;66;03m# Return None if no valid country is found\u001b[39;00m\n\u001b[1;32m     20\u001b[0m \u001b[38;5;66;03m# Apply the cleaning function to the column\u001b[39;00m\n\u001b[0;32m---> 21\u001b[0m df[\u001b[38;5;124m'\u001b[39m\u001b[38;5;124mauthor_country_cleaned\u001b[39m\u001b[38;5;124m'\u001b[39m] \u001b[38;5;241m=\u001b[39m \u001b[43mdf\u001b[49m\u001b[43m[\u001b[49m\u001b[38;5;124;43m'\u001b[39;49m\u001b[38;5;124;43mauthor_country\u001b[39;49m\u001b[38;5;124;43m'\u001b[39;49m\u001b[43m]\u001b[49m\u001b[38;5;241;43m.\u001b[39;49m\u001b[43mapply\u001b[49m\u001b[43m(\u001b[49m\u001b[43mclean_country\u001b[49m\u001b[43m)\u001b[49m\n",
      "File \u001b[0;32m~/.local/lib/python3.11/site-packages/pandas/core/series.py:4630\u001b[0m, in \u001b[0;36mSeries.apply\u001b[0;34m(self, func, convert_dtype, args, **kwargs)\u001b[0m\n\u001b[1;32m   4520\u001b[0m \u001b[38;5;28;01mdef\u001b[39;00m\u001b[38;5;250m \u001b[39m\u001b[38;5;21mapply\u001b[39m(\n\u001b[1;32m   4521\u001b[0m     \u001b[38;5;28mself\u001b[39m,\n\u001b[1;32m   4522\u001b[0m     func: AggFuncType,\n\u001b[0;32m   (...)\u001b[0m\n\u001b[1;32m   4525\u001b[0m     \u001b[38;5;241m*\u001b[39m\u001b[38;5;241m*\u001b[39mkwargs,\n\u001b[1;32m   4526\u001b[0m ) \u001b[38;5;241m-\u001b[39m\u001b[38;5;241m>\u001b[39m DataFrame \u001b[38;5;241m|\u001b[39m Series:\n\u001b[1;32m   4527\u001b[0m \u001b[38;5;250m    \u001b[39m\u001b[38;5;124;03m\"\"\"\u001b[39;00m\n\u001b[1;32m   4528\u001b[0m \u001b[38;5;124;03m    Invoke function on values of Series.\u001b[39;00m\n\u001b[1;32m   4529\u001b[0m \n\u001b[0;32m   (...)\u001b[0m\n\u001b[1;32m   4628\u001b[0m \u001b[38;5;124;03m    dtype: float64\u001b[39;00m\n\u001b[1;32m   4629\u001b[0m \u001b[38;5;124;03m    \"\"\"\u001b[39;00m\n\u001b[0;32m-> 4630\u001b[0m     \u001b[38;5;28;01mreturn\u001b[39;00m \u001b[43mSeriesApply\u001b[49m\u001b[43m(\u001b[49m\u001b[38;5;28;43mself\u001b[39;49m\u001b[43m,\u001b[49m\u001b[43m \u001b[49m\u001b[43mfunc\u001b[49m\u001b[43m,\u001b[49m\u001b[43m \u001b[49m\u001b[43mconvert_dtype\u001b[49m\u001b[43m,\u001b[49m\u001b[43m \u001b[49m\u001b[43margs\u001b[49m\u001b[43m,\u001b[49m\u001b[43m \u001b[49m\u001b[43mkwargs\u001b[49m\u001b[43m)\u001b[49m\u001b[38;5;241;43m.\u001b[39;49m\u001b[43mapply\u001b[49m\u001b[43m(\u001b[49m\u001b[43m)\u001b[49m\n",
      "File \u001b[0;32m~/.local/lib/python3.11/site-packages/pandas/core/apply.py:1025\u001b[0m, in \u001b[0;36mSeriesApply.apply\u001b[0;34m(self)\u001b[0m\n\u001b[1;32m   1022\u001b[0m     \u001b[38;5;28;01mreturn\u001b[39;00m \u001b[38;5;28mself\u001b[39m\u001b[38;5;241m.\u001b[39mapply_str()\n\u001b[1;32m   1024\u001b[0m \u001b[38;5;66;03m# self.f is Callable\u001b[39;00m\n\u001b[0;32m-> 1025\u001b[0m \u001b[38;5;28;01mreturn\u001b[39;00m \u001b[38;5;28;43mself\u001b[39;49m\u001b[38;5;241;43m.\u001b[39;49m\u001b[43mapply_standard\u001b[49m\u001b[43m(\u001b[49m\u001b[43m)\u001b[49m\n",
      "File \u001b[0;32m~/.local/lib/python3.11/site-packages/pandas/core/apply.py:1076\u001b[0m, in \u001b[0;36mSeriesApply.apply_standard\u001b[0;34m(self)\u001b[0m\n\u001b[1;32m   1074\u001b[0m     \u001b[38;5;28;01melse\u001b[39;00m:\n\u001b[1;32m   1075\u001b[0m         values \u001b[38;5;241m=\u001b[39m obj\u001b[38;5;241m.\u001b[39mastype(\u001b[38;5;28mobject\u001b[39m)\u001b[38;5;241m.\u001b[39m_values\n\u001b[0;32m-> 1076\u001b[0m         mapped \u001b[38;5;241m=\u001b[39m \u001b[43mlib\u001b[49m\u001b[38;5;241;43m.\u001b[39;49m\u001b[43mmap_infer\u001b[49m\u001b[43m(\u001b[49m\n\u001b[1;32m   1077\u001b[0m \u001b[43m            \u001b[49m\u001b[43mvalues\u001b[49m\u001b[43m,\u001b[49m\n\u001b[1;32m   1078\u001b[0m \u001b[43m            \u001b[49m\u001b[43mf\u001b[49m\u001b[43m,\u001b[49m\n\u001b[1;32m   1079\u001b[0m \u001b[43m            \u001b[49m\u001b[43mconvert\u001b[49m\u001b[38;5;241;43m=\u001b[39;49m\u001b[38;5;28;43mself\u001b[39;49m\u001b[38;5;241;43m.\u001b[39;49m\u001b[43mconvert_dtype\u001b[49m\u001b[43m,\u001b[49m\n\u001b[1;32m   1080\u001b[0m \u001b[43m        \u001b[49m\u001b[43m)\u001b[49m\n\u001b[1;32m   1082\u001b[0m \u001b[38;5;28;01mif\u001b[39;00m \u001b[38;5;28mlen\u001b[39m(mapped) \u001b[38;5;129;01mand\u001b[39;00m \u001b[38;5;28misinstance\u001b[39m(mapped[\u001b[38;5;241m0\u001b[39m], ABCSeries):\n\u001b[1;32m   1083\u001b[0m     \u001b[38;5;66;03m# GH#43986 Need to do list(mapped) in order to get treated as nested\u001b[39;00m\n\u001b[1;32m   1084\u001b[0m     \u001b[38;5;66;03m#  See also GH#25959 regarding EA support\u001b[39;00m\n\u001b[1;32m   1085\u001b[0m     \u001b[38;5;28;01mreturn\u001b[39;00m obj\u001b[38;5;241m.\u001b[39m_constructor_expanddim(\u001b[38;5;28mlist\u001b[39m(mapped), index\u001b[38;5;241m=\u001b[39mobj\u001b[38;5;241m.\u001b[39mindex)\n",
      "File \u001b[0;32m~/.local/lib/python3.11/site-packages/pandas/_libs/lib.pyx:2834\u001b[0m, in \u001b[0;36mpandas._libs.lib.map_infer\u001b[0;34m()\u001b[0m\n",
      "Cell \u001b[0;32mIn[48], line 15\u001b[0m, in \u001b[0;36mclean_country\u001b[0;34m(country)\u001b[0m\n\u001b[1;32m     12\u001b[0m country \u001b[38;5;241m=\u001b[39m re\u001b[38;5;241m.\u001b[39msub(\u001b[38;5;124mr\u001b[39m\u001b[38;5;124m'\u001b[39m\u001b[38;5;124m(,|from|in|of|near|city|province|state|region).*\u001b[39m\u001b[38;5;124m'\u001b[39m, \u001b[38;5;124m'\u001b[39m\u001b[38;5;124m'\u001b[39m, country)\u001b[38;5;241m.\u001b[39mstrip()\n\u001b[1;32m     14\u001b[0m \u001b[38;5;66;03m# Fuzzy match the text to the country list\u001b[39;00m\n\u001b[0;32m---> 15\u001b[0m match, score \u001b[38;5;241m=\u001b[39m \u001b[43mprocess\u001b[49m\u001b[38;5;241;43m.\u001b[39;49m\u001b[43mextractOne\u001b[49m\u001b[43m(\u001b[49m\u001b[43mcountry\u001b[49m\u001b[43m,\u001b[49m\u001b[43m \u001b[49m\u001b[43mcountry_list\u001b[49m\u001b[43m)\u001b[49m\n\u001b[1;32m     16\u001b[0m \u001b[38;5;28;01mif\u001b[39;00m score \u001b[38;5;241m>\u001b[39m\u001b[38;5;241m=\u001b[39m \u001b[38;5;241m80\u001b[39m:  \u001b[38;5;66;03m# Set a threshold for matching accuracy\u001b[39;00m\n\u001b[1;32m     17\u001b[0m     \u001b[38;5;28;01mreturn\u001b[39;00m match\u001b[38;5;241m.\u001b[39mtitle()  \u001b[38;5;66;03m# Return matched country name in title case\u001b[39;00m\n",
      "File \u001b[0;32m/opt/anaconda3/lib/python3.11/site-packages/fuzzywuzzy/process.py:220\u001b[0m, in \u001b[0;36mextractOne\u001b[0;34m(query, choices, processor, scorer, score_cutoff)\u001b[0m\n\u001b[1;32m    218\u001b[0m best_list \u001b[38;5;241m=\u001b[39m extractWithoutOrder(query, choices, processor, scorer, score_cutoff)\n\u001b[1;32m    219\u001b[0m \u001b[38;5;28;01mtry\u001b[39;00m:\n\u001b[0;32m--> 220\u001b[0m     \u001b[38;5;28;01mreturn\u001b[39;00m \u001b[38;5;28;43mmax\u001b[39;49m\u001b[43m(\u001b[49m\u001b[43mbest_list\u001b[49m\u001b[43m,\u001b[49m\u001b[43m \u001b[49m\u001b[43mkey\u001b[49m\u001b[38;5;241;43m=\u001b[39;49m\u001b[38;5;28;43;01mlambda\u001b[39;49;00m\u001b[43m \u001b[49m\u001b[43mi\u001b[49m\u001b[43m:\u001b[49m\u001b[43m \u001b[49m\u001b[43mi\u001b[49m\u001b[43m[\u001b[49m\u001b[38;5;241;43m1\u001b[39;49m\u001b[43m]\u001b[49m\u001b[43m)\u001b[49m\n\u001b[1;32m    221\u001b[0m \u001b[38;5;28;01mexcept\u001b[39;00m \u001b[38;5;167;01mValueError\u001b[39;00m:\n\u001b[1;32m    222\u001b[0m     \u001b[38;5;28;01mreturn\u001b[39;00m \u001b[38;5;28;01mNone\u001b[39;00m\n",
      "File \u001b[0;32m/opt/anaconda3/lib/python3.11/site-packages/fuzzywuzzy/process.py:117\u001b[0m, in \u001b[0;36mextractWithoutOrder\u001b[0;34m(query, choices, processor, scorer, score_cutoff)\u001b[0m\n\u001b[1;32m    115\u001b[0m \u001b[38;5;28;01mfor\u001b[39;00m choice \u001b[38;5;129;01min\u001b[39;00m choices:\n\u001b[1;32m    116\u001b[0m     processed \u001b[38;5;241m=\u001b[39m pre_processor(processor(choice))\n\u001b[0;32m--> 117\u001b[0m     score \u001b[38;5;241m=\u001b[39m \u001b[43mscorer\u001b[49m\u001b[43m(\u001b[49m\u001b[43mprocessed_query\u001b[49m\u001b[43m,\u001b[49m\u001b[43m \u001b[49m\u001b[43mprocessed\u001b[49m\u001b[43m)\u001b[49m\n\u001b[1;32m    118\u001b[0m     \u001b[38;5;28;01mif\u001b[39;00m score \u001b[38;5;241m>\u001b[39m\u001b[38;5;241m=\u001b[39m score_cutoff:\n\u001b[1;32m    119\u001b[0m         \u001b[38;5;28;01myield\u001b[39;00m (choice, score)\n",
      "File \u001b[0;32m/opt/anaconda3/lib/python3.11/site-packages/fuzzywuzzy/fuzz.py:288\u001b[0m, in \u001b[0;36mWRatio\u001b[0;34m(s1, s2, force_ascii, full_process)\u001b[0m\n\u001b[1;32m    285\u001b[0m     partial_scale \u001b[38;5;241m=\u001b[39m \u001b[38;5;241m.6\u001b[39m\n\u001b[1;32m    287\u001b[0m \u001b[38;5;28;01mif\u001b[39;00m try_partial:\n\u001b[0;32m--> 288\u001b[0m     partial \u001b[38;5;241m=\u001b[39m \u001b[43mpartial_ratio\u001b[49m\u001b[43m(\u001b[49m\u001b[43mp1\u001b[49m\u001b[43m,\u001b[49m\u001b[43m \u001b[49m\u001b[43mp2\u001b[49m\u001b[43m)\u001b[49m \u001b[38;5;241m*\u001b[39m partial_scale\n\u001b[1;32m    289\u001b[0m     ptsor \u001b[38;5;241m=\u001b[39m partial_token_sort_ratio(p1, p2, full_process\u001b[38;5;241m=\u001b[39m\u001b[38;5;28;01mFalse\u001b[39;00m) \\\n\u001b[1;32m    290\u001b[0m         \u001b[38;5;241m*\u001b[39m unbase_scale \u001b[38;5;241m*\u001b[39m partial_scale\n\u001b[1;32m    291\u001b[0m     ptser \u001b[38;5;241m=\u001b[39m partial_token_set_ratio(p1, p2, full_process\u001b[38;5;241m=\u001b[39m\u001b[38;5;28;01mFalse\u001b[39;00m) \\\n\u001b[1;32m    292\u001b[0m         \u001b[38;5;241m*\u001b[39m unbase_scale \u001b[38;5;241m*\u001b[39m partial_scale\n",
      "File \u001b[0;32m/opt/anaconda3/lib/python3.11/site-packages/fuzzywuzzy/utils.py:38\u001b[0m, in \u001b[0;36mcheck_for_none.<locals>.decorator\u001b[0;34m(*args, **kwargs)\u001b[0m\n\u001b[1;32m     36\u001b[0m \u001b[38;5;28;01mif\u001b[39;00m args[\u001b[38;5;241m0\u001b[39m] \u001b[38;5;129;01mis\u001b[39;00m \u001b[38;5;28;01mNone\u001b[39;00m \u001b[38;5;129;01mor\u001b[39;00m args[\u001b[38;5;241m1\u001b[39m] \u001b[38;5;129;01mis\u001b[39;00m \u001b[38;5;28;01mNone\u001b[39;00m:\n\u001b[1;32m     37\u001b[0m     \u001b[38;5;28;01mreturn\u001b[39;00m \u001b[38;5;241m0\u001b[39m\n\u001b[0;32m---> 38\u001b[0m \u001b[38;5;28;01mreturn\u001b[39;00m \u001b[43mfunc\u001b[49m\u001b[43m(\u001b[49m\u001b[38;5;241;43m*\u001b[39;49m\u001b[43margs\u001b[49m\u001b[43m,\u001b[49m\u001b[43m \u001b[49m\u001b[38;5;241;43m*\u001b[39;49m\u001b[38;5;241;43m*\u001b[39;49m\u001b[43mkwargs\u001b[49m\u001b[43m)\u001b[49m\n",
      "File \u001b[0;32m/opt/anaconda3/lib/python3.11/site-packages/fuzzywuzzy/utils.py:29\u001b[0m, in \u001b[0;36mcheck_for_equivalence.<locals>.decorator\u001b[0;34m(*args, **kwargs)\u001b[0m\n\u001b[1;32m     27\u001b[0m \u001b[38;5;28;01mif\u001b[39;00m args[\u001b[38;5;241m0\u001b[39m] \u001b[38;5;241m==\u001b[39m args[\u001b[38;5;241m1\u001b[39m]:\n\u001b[1;32m     28\u001b[0m     \u001b[38;5;28;01mreturn\u001b[39;00m \u001b[38;5;241m100\u001b[39m\n\u001b[0;32m---> 29\u001b[0m \u001b[38;5;28;01mreturn\u001b[39;00m \u001b[43mfunc\u001b[49m\u001b[43m(\u001b[49m\u001b[38;5;241;43m*\u001b[39;49m\u001b[43margs\u001b[49m\u001b[43m,\u001b[49m\u001b[43m \u001b[49m\u001b[38;5;241;43m*\u001b[39;49m\u001b[38;5;241;43m*\u001b[39;49m\u001b[43mkwargs\u001b[49m\u001b[43m)\u001b[49m\n",
      "File \u001b[0;32m/opt/anaconda3/lib/python3.11/site-packages/fuzzywuzzy/utils.py:47\u001b[0m, in \u001b[0;36mcheck_empty_string.<locals>.decorator\u001b[0;34m(*args, **kwargs)\u001b[0m\n\u001b[1;32m     45\u001b[0m \u001b[38;5;28;01mif\u001b[39;00m \u001b[38;5;28mlen\u001b[39m(args[\u001b[38;5;241m0\u001b[39m]) \u001b[38;5;241m==\u001b[39m \u001b[38;5;241m0\u001b[39m \u001b[38;5;129;01mor\u001b[39;00m \u001b[38;5;28mlen\u001b[39m(args[\u001b[38;5;241m1\u001b[39m]) \u001b[38;5;241m==\u001b[39m \u001b[38;5;241m0\u001b[39m:\n\u001b[1;32m     46\u001b[0m     \u001b[38;5;28;01mreturn\u001b[39;00m \u001b[38;5;241m0\u001b[39m\n\u001b[0;32m---> 47\u001b[0m \u001b[38;5;28;01mreturn\u001b[39;00m \u001b[43mfunc\u001b[49m\u001b[43m(\u001b[49m\u001b[38;5;241;43m*\u001b[39;49m\u001b[43margs\u001b[49m\u001b[43m,\u001b[49m\u001b[43m \u001b[49m\u001b[38;5;241;43m*\u001b[39;49m\u001b[38;5;241;43m*\u001b[39;49m\u001b[43mkwargs\u001b[49m\u001b[43m)\u001b[49m\n",
      "File \u001b[0;32m/opt/anaconda3/lib/python3.11/site-packages/fuzzywuzzy/fuzz.py:68\u001b[0m, in \u001b[0;36mpartial_ratio\u001b[0;34m(s1, s2)\u001b[0m\n\u001b[1;32m     65\u001b[0m     \u001b[38;5;28;01melse\u001b[39;00m:\n\u001b[1;32m     66\u001b[0m         scores\u001b[38;5;241m.\u001b[39mappend(r)\n\u001b[0;32m---> 68\u001b[0m \u001b[38;5;28;01mreturn\u001b[39;00m \u001b[43mutils\u001b[49m\u001b[38;5;241;43m.\u001b[39;49m\u001b[43mintr\u001b[49m\u001b[43m(\u001b[49m\u001b[38;5;241;43m100\u001b[39;49m\u001b[43m \u001b[49m\u001b[38;5;241;43m*\u001b[39;49m\u001b[43m \u001b[49m\u001b[38;5;28;43mmax\u001b[39;49m\u001b[43m(\u001b[49m\u001b[43mscores\u001b[49m\u001b[43m)\u001b[49m\u001b[43m)\u001b[49m\n",
      "File \u001b[0;32m/opt/anaconda3/lib/python3.11/site-packages/fuzzywuzzy/utils.py:105\u001b[0m, in \u001b[0;36mintr\u001b[0;34m(n)\u001b[0m\n\u001b[1;32m    103\u001b[0m \u001b[38;5;28;01mdef\u001b[39;00m\u001b[38;5;250m \u001b[39m\u001b[38;5;21mintr\u001b[39m(n):\n\u001b[1;32m    104\u001b[0m \u001b[38;5;250m    \u001b[39m\u001b[38;5;124;03m'''Returns a correctly rounded integer'''\u001b[39;00m\n\u001b[0;32m--> 105\u001b[0m     \u001b[38;5;28;01mreturn\u001b[39;00m \u001b[38;5;28;43mint\u001b[39;49m\u001b[43m(\u001b[49m\u001b[38;5;28;43mround\u001b[39;49m\u001b[43m(\u001b[49m\u001b[43mn\u001b[49m\u001b[43m)\u001b[49m\u001b[43m)\u001b[49m\n",
      "\u001b[0;31mKeyboardInterrupt\u001b[0m: "
     ]
    }
   ],
   "source": [
    "# Precompiled list of country names from pycountry\n",
    "country_list = [country.name.lower() for country in pycountry.countries]\n",
    "    \n",
    "\n",
    "# Function to clean and extract valid country names\n",
    "def clean_country(country):\n",
    "    if pd.isna(country) or country.strip() == '':\n",
    "        return None  # Handle missing values\n",
    "    \n",
    "   \n",
    "    # Normalize text\n",
    "    country = country.lower().strip()\n",
    "    \n",
    "    # Remove cities, prepositions, and extra text using regex\n",
    "    country = re.sub(r'(,|from|in|of|near|city|province|state|region).*', '', country).strip()\n",
    "    \n",
    "    # Validate country name using pycountry\n",
    "    for valid_country in pycountry.countries:\n",
    "        if valid_country.name.lower() == country or valid_country.alpha_2.lower() == country:\n",
    "            return valid_country.name  # Return valid country name\n",
    "    \n",
    "    # Fuzzy match the cleaned text to the country list\n",
    "    match, score = process.extractOne(country, country_list)\n",
    "    if score >= 80:  # Set a threshold for matching accuracy\n",
    "        return match.title()  # Return matched country name in title case\n",
    "    \n",
    "    return None  # Return None if no valid country is found\n",
    "\n",
    "# Apply the cleaning function to the column\n",
    "df['author_country_cleaned'] = df['author_country'].apply(clean_country)\n"
   ]
  },
  {
   "cell_type": "code",
   "execution_count": 43,
   "metadata": {},
   "outputs": [
    {
     "data": {
      "application/vnd.microsoft.datawrangler.viewer.v0+json": {
       "columns": [
        {
         "name": "author_country_cleaned",
         "rawType": "object",
         "type": "string"
        },
        {
         "name": "count",
         "rawType": "int64",
         "type": "integer"
        }
       ],
       "ref": "f8202cc1-a363-4202-976c-daf6884dfc4c",
       "rows": [
        [
         "Canada",
         "16"
        ],
        [
         "Australia",
         "9"
        ],
        [
         "New Zealand",
         "2"
        ],
        [
         "Switzerland",
         "2"
        ],
        [
         "Zimbabwe",
         "2"
        ],
        [
         "Ireland",
         "1"
        ],
        [
         "Malaysia",
         "1"
        ]
       ],
       "shape": {
        "columns": 1,
        "rows": 7
       }
      },
      "text/plain": [
       "author_country_cleaned\n",
       "Canada         16\n",
       "Australia       9\n",
       "New Zealand     2\n",
       "Switzerland     2\n",
       "Zimbabwe        2\n",
       "Ireland         1\n",
       "Malaysia        1\n",
       "Name: count, dtype: int64"
      ]
     },
     "execution_count": 43,
     "metadata": {},
     "output_type": "execute_result"
    }
   ],
   "source": [
    "df[\"author_country_cleaned\"].value_counts()"
   ]
  },
  {
   "cell_type": "code",
   "execution_count": null,
   "metadata": {},
   "outputs": [],
   "source": []
  }
 ],
 "metadata": {
  "kernelspec": {
   "display_name": "base",
   "language": "python",
   "name": "python3"
  },
  "language_info": {
   "codemirror_mode": {
    "name": "ipython",
    "version": 3
   },
   "file_extension": ".py",
   "mimetype": "text/x-python",
   "name": "python",
   "nbconvert_exporter": "python",
   "pygments_lexer": "ipython3",
   "version": "3.11.7"
  }
 },
 "nbformat": 4,
 "nbformat_minor": 2
}
